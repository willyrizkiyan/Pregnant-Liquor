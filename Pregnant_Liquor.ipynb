{
  "nbformat": 4,
  "nbformat_minor": 0,
  "metadata": {
    "colab": {
      "name": "Pregnant Liquor.ipynb",
      "provenance": [],
      "collapsed_sections": [],
      "toc_visible": true
    },
    "kernelspec": {
      "name": "python3",
      "display_name": "Python 3"
    },
    "language_info": {
      "name": "python"
    }
  },
  "cells": [
    {
      "cell_type": "markdown",
      "source": [
        "#Import Libraries"
      ],
      "metadata": {
        "id": "k4SDQeZu0Fcx"
      }
    },
    {
      "cell_type": "code",
      "execution_count": 370,
      "metadata": {
        "id": "vWoslQH7DH5m"
      },
      "outputs": [],
      "source": [
        "import numpy as np\n",
        "import pandas as pd\n",
        "import seaborn as sns\n",
        "import matplotlib.pyplot as plt"
      ]
    },
    {
      "cell_type": "markdown",
      "source": [
        "#Import Dataset"
      ],
      "metadata": {
        "id": "2Unsg_-q0KA2"
      }
    },
    {
      "cell_type": "code",
      "source": [
        "df = pd.read_csv('https://raw.githubusercontent.com/willyrizkiyan/Pregnant-Liquor/main/Data%20Process.csv', sep=';')"
      ],
      "metadata": {
        "id": "flIsoDLvDht6"
      },
      "execution_count": 371,
      "outputs": []
    },
    {
      "cell_type": "code",
      "source": [
        "df.head()"
      ],
      "metadata": {
        "colab": {
          "base_uri": "https://localhost:8080/",
          "height": 317
        },
        "id": "6ItjK1srDnSv",
        "outputId": "1e8b1130-6079-49e1-b64d-0f4325c80b63"
      },
      "execution_count": 372,
      "outputs": [
        {
          "output_type": "execute_result",
          "data": {
            "text/plain": [
              "   Al2O3_Bauxite  Fe2O3_Bauxite  T-SiO2_Bauxite  R-SiO2_Bauxite  TiO2_Bauxite  \\\n",
              "0        51.4407       13.14860        12.00000          3.4719       1.36600   \n",
              "1        51.4407       13.14860        12.00000          3.4719       1.36600   \n",
              "2        51.4407       13.14860        12.00000          3.4719       1.36600   \n",
              "3        51.4407       13.14860        12.00000          3.4719       1.36600   \n",
              "4        47.9181       14.27375        10.34535          3.0322       1.28805   \n",
              "\n",
              "   LOI_Bauxite  THA_Bauxite  Average_MC_RM  F-NaOH_Spend_Liquor  \\\n",
              "0     26.75000    45.753477           12.8                150.8   \n",
              "1     26.75000    45.753477           14.4                150.8   \n",
              "2     26.75000    45.753477           12.0                161.9   \n",
              "3     26.75000    45.753477           13.6                149.8   \n",
              "4     26.03435    42.532584           16.3                143.1   \n",
              "\n",
              "   A/C_Spend_Liquor  ...  F-NaOH_BOS  A/C_BOS  SiO2_BOS  SC_BOS  \\\n",
              "0             0.447  ...       145.1    0.849     0.647   31.91   \n",
              "1             0.454  ...       148.5    0.867     0.357    8.60   \n",
              "2             0.432  ...       166.0    0.843     0.267   40.67   \n",
              "3             0.469  ...       153.2    0.836     0.483   50.64   \n",
              "4             0.490  ...       143.1    0.816     0.424   41.00   \n",
              "\n",
              "   F-NaOH_PFS_Filtrate  A/C_PFS_Filtrate  F-NaOH_Pregnant_Liquor  \\\n",
              "0                137.3             0.858                   146.3   \n",
              "1                139.5             0.520                   148.5   \n",
              "2                148.7             0.788                   154.5   \n",
              "3                140.9             0.819                   144.8   \n",
              "4                136.6             0.798                   144.2   \n",
              "\n",
              "   A/C_Pregnant_Liquor  Na2CO3_Pregnant_Liquor  F/T-NaOH_Pregnant_Liquor  \n",
              "0                0.813                    36.4                 81.301196  \n",
              "1                0.845                    37.0                 81.276434  \n",
              "2                0.797                    38.5                 81.266493  \n",
              "3                0.834                    36.1                 81.266053  \n",
              "4                0.799                    35.9                 81.289249  \n",
              "\n",
              "[5 rows x 25 columns]"
            ],
            "text/html": [
              "\n",
              "  <div id=\"df-db076843-f50d-4385-bc9c-4f085a8391a7\">\n",
              "    <div class=\"colab-df-container\">\n",
              "      <div>\n",
              "<style scoped>\n",
              "    .dataframe tbody tr th:only-of-type {\n",
              "        vertical-align: middle;\n",
              "    }\n",
              "\n",
              "    .dataframe tbody tr th {\n",
              "        vertical-align: top;\n",
              "    }\n",
              "\n",
              "    .dataframe thead th {\n",
              "        text-align: right;\n",
              "    }\n",
              "</style>\n",
              "<table border=\"1\" class=\"dataframe\">\n",
              "  <thead>\n",
              "    <tr style=\"text-align: right;\">\n",
              "      <th></th>\n",
              "      <th>Al2O3_Bauxite</th>\n",
              "      <th>Fe2O3_Bauxite</th>\n",
              "      <th>T-SiO2_Bauxite</th>\n",
              "      <th>R-SiO2_Bauxite</th>\n",
              "      <th>TiO2_Bauxite</th>\n",
              "      <th>LOI_Bauxite</th>\n",
              "      <th>THA_Bauxite</th>\n",
              "      <th>Average_MC_RM</th>\n",
              "      <th>F-NaOH_Spend_Liquor</th>\n",
              "      <th>A/C_Spend_Liquor</th>\n",
              "      <th>...</th>\n",
              "      <th>F-NaOH_BOS</th>\n",
              "      <th>A/C_BOS</th>\n",
              "      <th>SiO2_BOS</th>\n",
              "      <th>SC_BOS</th>\n",
              "      <th>F-NaOH_PFS_Filtrate</th>\n",
              "      <th>A/C_PFS_Filtrate</th>\n",
              "      <th>F-NaOH_Pregnant_Liquor</th>\n",
              "      <th>A/C_Pregnant_Liquor</th>\n",
              "      <th>Na2CO3_Pregnant_Liquor</th>\n",
              "      <th>F/T-NaOH_Pregnant_Liquor</th>\n",
              "    </tr>\n",
              "  </thead>\n",
              "  <tbody>\n",
              "    <tr>\n",
              "      <th>0</th>\n",
              "      <td>51.4407</td>\n",
              "      <td>13.14860</td>\n",
              "      <td>12.00000</td>\n",
              "      <td>3.4719</td>\n",
              "      <td>1.36600</td>\n",
              "      <td>26.75000</td>\n",
              "      <td>45.753477</td>\n",
              "      <td>12.8</td>\n",
              "      <td>150.8</td>\n",
              "      <td>0.447</td>\n",
              "      <td>...</td>\n",
              "      <td>145.1</td>\n",
              "      <td>0.849</td>\n",
              "      <td>0.647</td>\n",
              "      <td>31.91</td>\n",
              "      <td>137.3</td>\n",
              "      <td>0.858</td>\n",
              "      <td>146.3</td>\n",
              "      <td>0.813</td>\n",
              "      <td>36.4</td>\n",
              "      <td>81.301196</td>\n",
              "    </tr>\n",
              "    <tr>\n",
              "      <th>1</th>\n",
              "      <td>51.4407</td>\n",
              "      <td>13.14860</td>\n",
              "      <td>12.00000</td>\n",
              "      <td>3.4719</td>\n",
              "      <td>1.36600</td>\n",
              "      <td>26.75000</td>\n",
              "      <td>45.753477</td>\n",
              "      <td>14.4</td>\n",
              "      <td>150.8</td>\n",
              "      <td>0.454</td>\n",
              "      <td>...</td>\n",
              "      <td>148.5</td>\n",
              "      <td>0.867</td>\n",
              "      <td>0.357</td>\n",
              "      <td>8.60</td>\n",
              "      <td>139.5</td>\n",
              "      <td>0.520</td>\n",
              "      <td>148.5</td>\n",
              "      <td>0.845</td>\n",
              "      <td>37.0</td>\n",
              "      <td>81.276434</td>\n",
              "    </tr>\n",
              "    <tr>\n",
              "      <th>2</th>\n",
              "      <td>51.4407</td>\n",
              "      <td>13.14860</td>\n",
              "      <td>12.00000</td>\n",
              "      <td>3.4719</td>\n",
              "      <td>1.36600</td>\n",
              "      <td>26.75000</td>\n",
              "      <td>45.753477</td>\n",
              "      <td>12.0</td>\n",
              "      <td>161.9</td>\n",
              "      <td>0.432</td>\n",
              "      <td>...</td>\n",
              "      <td>166.0</td>\n",
              "      <td>0.843</td>\n",
              "      <td>0.267</td>\n",
              "      <td>40.67</td>\n",
              "      <td>148.7</td>\n",
              "      <td>0.788</td>\n",
              "      <td>154.5</td>\n",
              "      <td>0.797</td>\n",
              "      <td>38.5</td>\n",
              "      <td>81.266493</td>\n",
              "    </tr>\n",
              "    <tr>\n",
              "      <th>3</th>\n",
              "      <td>51.4407</td>\n",
              "      <td>13.14860</td>\n",
              "      <td>12.00000</td>\n",
              "      <td>3.4719</td>\n",
              "      <td>1.36600</td>\n",
              "      <td>26.75000</td>\n",
              "      <td>45.753477</td>\n",
              "      <td>13.6</td>\n",
              "      <td>149.8</td>\n",
              "      <td>0.469</td>\n",
              "      <td>...</td>\n",
              "      <td>153.2</td>\n",
              "      <td>0.836</td>\n",
              "      <td>0.483</td>\n",
              "      <td>50.64</td>\n",
              "      <td>140.9</td>\n",
              "      <td>0.819</td>\n",
              "      <td>144.8</td>\n",
              "      <td>0.834</td>\n",
              "      <td>36.1</td>\n",
              "      <td>81.266053</td>\n",
              "    </tr>\n",
              "    <tr>\n",
              "      <th>4</th>\n",
              "      <td>47.9181</td>\n",
              "      <td>14.27375</td>\n",
              "      <td>10.34535</td>\n",
              "      <td>3.0322</td>\n",
              "      <td>1.28805</td>\n",
              "      <td>26.03435</td>\n",
              "      <td>42.532584</td>\n",
              "      <td>16.3</td>\n",
              "      <td>143.1</td>\n",
              "      <td>0.490</td>\n",
              "      <td>...</td>\n",
              "      <td>143.1</td>\n",
              "      <td>0.816</td>\n",
              "      <td>0.424</td>\n",
              "      <td>41.00</td>\n",
              "      <td>136.6</td>\n",
              "      <td>0.798</td>\n",
              "      <td>144.2</td>\n",
              "      <td>0.799</td>\n",
              "      <td>35.9</td>\n",
              "      <td>81.289249</td>\n",
              "    </tr>\n",
              "  </tbody>\n",
              "</table>\n",
              "<p>5 rows × 25 columns</p>\n",
              "</div>\n",
              "      <button class=\"colab-df-convert\" onclick=\"convertToInteractive('df-db076843-f50d-4385-bc9c-4f085a8391a7')\"\n",
              "              title=\"Convert this dataframe to an interactive table.\"\n",
              "              style=\"display:none;\">\n",
              "        \n",
              "  <svg xmlns=\"http://www.w3.org/2000/svg\" height=\"24px\"viewBox=\"0 0 24 24\"\n",
              "       width=\"24px\">\n",
              "    <path d=\"M0 0h24v24H0V0z\" fill=\"none\"/>\n",
              "    <path d=\"M18.56 5.44l.94 2.06.94-2.06 2.06-.94-2.06-.94-.94-2.06-.94 2.06-2.06.94zm-11 1L8.5 8.5l.94-2.06 2.06-.94-2.06-.94L8.5 2.5l-.94 2.06-2.06.94zm10 10l.94 2.06.94-2.06 2.06-.94-2.06-.94-.94-2.06-.94 2.06-2.06.94z\"/><path d=\"M17.41 7.96l-1.37-1.37c-.4-.4-.92-.59-1.43-.59-.52 0-1.04.2-1.43.59L10.3 9.45l-7.72 7.72c-.78.78-.78 2.05 0 2.83L4 21.41c.39.39.9.59 1.41.59.51 0 1.02-.2 1.41-.59l7.78-7.78 2.81-2.81c.8-.78.8-2.07 0-2.86zM5.41 20L4 18.59l7.72-7.72 1.47 1.35L5.41 20z\"/>\n",
              "  </svg>\n",
              "      </button>\n",
              "      \n",
              "  <style>\n",
              "    .colab-df-container {\n",
              "      display:flex;\n",
              "      flex-wrap:wrap;\n",
              "      gap: 12px;\n",
              "    }\n",
              "\n",
              "    .colab-df-convert {\n",
              "      background-color: #E8F0FE;\n",
              "      border: none;\n",
              "      border-radius: 50%;\n",
              "      cursor: pointer;\n",
              "      display: none;\n",
              "      fill: #1967D2;\n",
              "      height: 32px;\n",
              "      padding: 0 0 0 0;\n",
              "      width: 32px;\n",
              "    }\n",
              "\n",
              "    .colab-df-convert:hover {\n",
              "      background-color: #E2EBFA;\n",
              "      box-shadow: 0px 1px 2px rgba(60, 64, 67, 0.3), 0px 1px 3px 1px rgba(60, 64, 67, 0.15);\n",
              "      fill: #174EA6;\n",
              "    }\n",
              "\n",
              "    [theme=dark] .colab-df-convert {\n",
              "      background-color: #3B4455;\n",
              "      fill: #D2E3FC;\n",
              "    }\n",
              "\n",
              "    [theme=dark] .colab-df-convert:hover {\n",
              "      background-color: #434B5C;\n",
              "      box-shadow: 0px 1px 3px 1px rgba(0, 0, 0, 0.15);\n",
              "      filter: drop-shadow(0px 1px 2px rgba(0, 0, 0, 0.3));\n",
              "      fill: #FFFFFF;\n",
              "    }\n",
              "  </style>\n",
              "\n",
              "      <script>\n",
              "        const buttonEl =\n",
              "          document.querySelector('#df-db076843-f50d-4385-bc9c-4f085a8391a7 button.colab-df-convert');\n",
              "        buttonEl.style.display =\n",
              "          google.colab.kernel.accessAllowed ? 'block' : 'none';\n",
              "\n",
              "        async function convertToInteractive(key) {\n",
              "          const element = document.querySelector('#df-db076843-f50d-4385-bc9c-4f085a8391a7');\n",
              "          const dataTable =\n",
              "            await google.colab.kernel.invokeFunction('convertToInteractive',\n",
              "                                                     [key], {});\n",
              "          if (!dataTable) return;\n",
              "\n",
              "          const docLinkHtml = 'Like what you see? Visit the ' +\n",
              "            '<a target=\"_blank\" href=https://colab.research.google.com/notebooks/data_table.ipynb>data table notebook</a>'\n",
              "            + ' to learn more about interactive tables.';\n",
              "          element.innerHTML = '';\n",
              "          dataTable['output_type'] = 'display_data';\n",
              "          await google.colab.output.renderOutput(dataTable, element);\n",
              "          const docLink = document.createElement('div');\n",
              "          docLink.innerHTML = docLinkHtml;\n",
              "          element.appendChild(docLink);\n",
              "        }\n",
              "      </script>\n",
              "    </div>\n",
              "  </div>\n",
              "  "
            ]
          },
          "metadata": {},
          "execution_count": 372
        }
      ]
    },
    {
      "cell_type": "code",
      "source": [
        "df.info()"
      ],
      "metadata": {
        "colab": {
          "base_uri": "https://localhost:8080/"
        },
        "id": "EKFVgqV5DqU0",
        "outputId": "ea72d931-b0bb-4f00-8909-d36ff0a021bd"
      },
      "execution_count": 373,
      "outputs": [
        {
          "output_type": "stream",
          "name": "stdout",
          "text": [
            "<class 'pandas.core.frame.DataFrame'>\n",
            "RangeIndex: 831 entries, 0 to 830\n",
            "Data columns (total 25 columns):\n",
            " #   Column                    Non-Null Count  Dtype  \n",
            "---  ------                    --------------  -----  \n",
            " 0   Al2O3_Bauxite             831 non-null    float64\n",
            " 1   Fe2O3_Bauxite             831 non-null    float64\n",
            " 2   T-SiO2_Bauxite            831 non-null    float64\n",
            " 3   R-SiO2_Bauxite            831 non-null    float64\n",
            " 4   TiO2_Bauxite              831 non-null    float64\n",
            " 5   LOI_Bauxite               831 non-null    float64\n",
            " 6   THA_Bauxite               831 non-null    float64\n",
            " 7   Average_MC_RM             720 non-null    float64\n",
            " 8   F-NaOH_Spend_Liquor       805 non-null    float64\n",
            " 9   A/C_Spend_Liquor          805 non-null    float64\n",
            " 10  SC_Spend_Liquor           789 non-null    float64\n",
            " 11  F-NaOH_SLE_Outlet         624 non-null    float64\n",
            " 12  A/C_SLE_Outlet            624 non-null    float64\n",
            " 13  F-NaOH_BDH-P-102          802 non-null    float64\n",
            " 14  A/C_BDH-P-102             802 non-null    float64\n",
            " 15  F-NaOH_BOS                804 non-null    float64\n",
            " 16  A/C_BOS                   804 non-null    float64\n",
            " 17  SiO2_BOS                  709 non-null    float64\n",
            " 18  SC_BOS                    773 non-null    float64\n",
            " 19  F-NaOH_PFS_Filtrate       804 non-null    float64\n",
            " 20  A/C_PFS_Filtrate          804 non-null    float64\n",
            " 21  F-NaOH_Pregnant_Liquor    806 non-null    float64\n",
            " 22  A/C_Pregnant_Liquor       806 non-null    float64\n",
            " 23  Na2CO3_Pregnant_Liquor    741 non-null    float64\n",
            " 24  F/T-NaOH_Pregnant_Liquor  763 non-null    float64\n",
            "dtypes: float64(25)\n",
            "memory usage: 162.4 KB\n"
          ]
        }
      ]
    },
    {
      "cell_type": "markdown",
      "source": [
        "# Drop NA and Duplicated"
      ],
      "metadata": {
        "id": "36DOYeM60yzk"
      }
    },
    {
      "cell_type": "code",
      "source": [
        "df = df.dropna()"
      ],
      "metadata": {
        "id": "jgl3XE-KD7HU"
      },
      "execution_count": 374,
      "outputs": []
    },
    {
      "cell_type": "code",
      "source": [
        "df = df.drop_duplicates()"
      ],
      "metadata": {
        "id": "hBv93SNLuIpQ"
      },
      "execution_count": 375,
      "outputs": []
    },
    {
      "cell_type": "code",
      "source": [
        "df.info()"
      ],
      "metadata": {
        "colab": {
          "base_uri": "https://localhost:8080/"
        },
        "id": "m-gNQfRK0cSV",
        "outputId": "64438131-6d8f-4114-aa7f-53cf82ec28b3"
      },
      "execution_count": 376,
      "outputs": [
        {
          "output_type": "stream",
          "name": "stdout",
          "text": [
            "<class 'pandas.core.frame.DataFrame'>\n",
            "Int64Index: 486 entries, 0 to 792\n",
            "Data columns (total 25 columns):\n",
            " #   Column                    Non-Null Count  Dtype  \n",
            "---  ------                    --------------  -----  \n",
            " 0   Al2O3_Bauxite             486 non-null    float64\n",
            " 1   Fe2O3_Bauxite             486 non-null    float64\n",
            " 2   T-SiO2_Bauxite            486 non-null    float64\n",
            " 3   R-SiO2_Bauxite            486 non-null    float64\n",
            " 4   TiO2_Bauxite              486 non-null    float64\n",
            " 5   LOI_Bauxite               486 non-null    float64\n",
            " 6   THA_Bauxite               486 non-null    float64\n",
            " 7   Average_MC_RM             486 non-null    float64\n",
            " 8   F-NaOH_Spend_Liquor       486 non-null    float64\n",
            " 9   A/C_Spend_Liquor          486 non-null    float64\n",
            " 10  SC_Spend_Liquor           486 non-null    float64\n",
            " 11  F-NaOH_SLE_Outlet         486 non-null    float64\n",
            " 12  A/C_SLE_Outlet            486 non-null    float64\n",
            " 13  F-NaOH_BDH-P-102          486 non-null    float64\n",
            " 14  A/C_BDH-P-102             486 non-null    float64\n",
            " 15  F-NaOH_BOS                486 non-null    float64\n",
            " 16  A/C_BOS                   486 non-null    float64\n",
            " 17  SiO2_BOS                  486 non-null    float64\n",
            " 18  SC_BOS                    486 non-null    float64\n",
            " 19  F-NaOH_PFS_Filtrate       486 non-null    float64\n",
            " 20  A/C_PFS_Filtrate          486 non-null    float64\n",
            " 21  F-NaOH_Pregnant_Liquor    486 non-null    float64\n",
            " 22  A/C_Pregnant_Liquor       486 non-null    float64\n",
            " 23  Na2CO3_Pregnant_Liquor    486 non-null    float64\n",
            " 24  F/T-NaOH_Pregnant_Liquor  486 non-null    float64\n",
            "dtypes: float64(25)\n",
            "memory usage: 98.7 KB\n"
          ]
        }
      ]
    },
    {
      "cell_type": "markdown",
      "source": [
        "Good"
      ],
      "metadata": {
        "id": "7kRet23kxpMN"
      }
    },
    {
      "cell_type": "markdown",
      "source": [
        "# Split Data : Train - Validation - Test"
      ],
      "metadata": {
        "id": "e6tjDl7S_6R9"
      }
    },
    {
      "cell_type": "code",
      "source": [
        "from sklearn.model_selection import train_test_split\n",
        "\n",
        "feature = df.drop(columns='F-NaOH_Pregnant_Liquor')\n",
        "target = df[['F-NaOH_Pregnant_Liquor']]\n",
        "\n",
        "feature_liquor_pretrain, feature_liquor_test, target_liquor_pretrain, target_liquor_test = train_test_split(feature, target, test_size=0.20, random_state=42)\n",
        "\n",
        "feature_liquor_train, feature_liquor_validation, target_liquor_train, target_liquor_validation = train_test_split(feature_liquor_pretrain, target_liquor_pretrain, test_size=0.20, random_state=42)"
      ],
      "metadata": {
        "id": "5Jcr9kOo0dxb"
      },
      "execution_count": 377,
      "outputs": []
    },
    {
      "cell_type": "markdown",
      "source": [
        "# Multicollinearity Study"
      ],
      "metadata": {
        "id": "6-DKv35jAiRn"
      }
    },
    {
      "cell_type": "code",
      "source": [
        "# calculate VIF scores for each feature\n",
        "from statsmodels.stats.outliers_influence import variance_inflation_factor as vif \n",
        "from statsmodels.tools.tools import add_constant\n",
        "\n",
        "X = add_constant(feature_liquor_train)\n",
        "\n",
        "vif_df = pd.DataFrame([vif(X.values, i) \n",
        "               for i in range(X.shape[1])], \n",
        "              index=X.columns).reset_index()\n",
        "vif_df.columns = ['feature','vif_score']\n",
        "vif_df = vif_df.loc[vif_df.feature!='const']\n",
        "vif_df"
      ],
      "metadata": {
        "colab": {
          "base_uri": "https://localhost:8080/",
          "height": 857
        },
        "id": "USlOvjzv1Tzu",
        "outputId": "63e3ce92-754c-4b4a-b03c-7f2257881fd3"
      },
      "execution_count": 378,
      "outputs": [
        {
          "output_type": "stream",
          "name": "stderr",
          "text": [
            "/usr/local/lib/python3.7/dist-packages/statsmodels/tsa/tsatools.py:117: FutureWarning: In a future version of pandas all arguments of concat except for the argument 'objs' will be keyword-only\n",
            "  x = pd.concat(x[::order], 1)\n"
          ]
        },
        {
          "output_type": "execute_result",
          "data": {
            "text/plain": [
              "                     feature     vif_score\n",
              "1              Al2O3_Bauxite  1.437377e+08\n",
              "2              Fe2O3_Bauxite  7.331809e+06\n",
              "3             T-SiO2_Bauxite  2.206501e+00\n",
              "4             R-SiO2_Bauxite  1.610244e+08\n",
              "5               TiO2_Bauxite  2.572533e+00\n",
              "6                LOI_Bauxite  1.329207e+00\n",
              "7                THA_Bauxite  2.769707e+08\n",
              "8              Average_MC_RM  1.145304e+00\n",
              "9        F-NaOH_Spend_Liquor  2.227562e+00\n",
              "10          A/C_Spend_Liquor  3.074687e+00\n",
              "11           SC_Spend_Liquor  1.153801e+00\n",
              "12         F-NaOH_SLE_Outlet  1.243258e+00\n",
              "13            A/C_SLE_Outlet  1.410694e+00\n",
              "14          F-NaOH_BDH-P-102  3.059319e+00\n",
              "15             A/C_BDH-P-102  2.702600e+00\n",
              "16                F-NaOH_BOS  3.324576e+00\n",
              "17                   A/C_BOS  2.331846e+00\n",
              "18                  SiO2_BOS  1.050627e+00\n",
              "19                    SC_BOS  1.304244e+00\n",
              "20       F-NaOH_PFS_Filtrate  2.758636e+00\n",
              "21          A/C_PFS_Filtrate  2.621157e+00\n",
              "22       A/C_Pregnant_Liquor  3.065777e+00\n",
              "23    Na2CO3_Pregnant_Liquor  1.945446e+00\n",
              "24  F/T-NaOH_Pregnant_Liquor  1.045107e+00"
            ],
            "text/html": [
              "\n",
              "  <div id=\"df-d4870f41-f5ac-4b90-b329-ff23bff88f60\">\n",
              "    <div class=\"colab-df-container\">\n",
              "      <div>\n",
              "<style scoped>\n",
              "    .dataframe tbody tr th:only-of-type {\n",
              "        vertical-align: middle;\n",
              "    }\n",
              "\n",
              "    .dataframe tbody tr th {\n",
              "        vertical-align: top;\n",
              "    }\n",
              "\n",
              "    .dataframe thead th {\n",
              "        text-align: right;\n",
              "    }\n",
              "</style>\n",
              "<table border=\"1\" class=\"dataframe\">\n",
              "  <thead>\n",
              "    <tr style=\"text-align: right;\">\n",
              "      <th></th>\n",
              "      <th>feature</th>\n",
              "      <th>vif_score</th>\n",
              "    </tr>\n",
              "  </thead>\n",
              "  <tbody>\n",
              "    <tr>\n",
              "      <th>1</th>\n",
              "      <td>Al2O3_Bauxite</td>\n",
              "      <td>1.437377e+08</td>\n",
              "    </tr>\n",
              "    <tr>\n",
              "      <th>2</th>\n",
              "      <td>Fe2O3_Bauxite</td>\n",
              "      <td>7.331809e+06</td>\n",
              "    </tr>\n",
              "    <tr>\n",
              "      <th>3</th>\n",
              "      <td>T-SiO2_Bauxite</td>\n",
              "      <td>2.206501e+00</td>\n",
              "    </tr>\n",
              "    <tr>\n",
              "      <th>4</th>\n",
              "      <td>R-SiO2_Bauxite</td>\n",
              "      <td>1.610244e+08</td>\n",
              "    </tr>\n",
              "    <tr>\n",
              "      <th>5</th>\n",
              "      <td>TiO2_Bauxite</td>\n",
              "      <td>2.572533e+00</td>\n",
              "    </tr>\n",
              "    <tr>\n",
              "      <th>6</th>\n",
              "      <td>LOI_Bauxite</td>\n",
              "      <td>1.329207e+00</td>\n",
              "    </tr>\n",
              "    <tr>\n",
              "      <th>7</th>\n",
              "      <td>THA_Bauxite</td>\n",
              "      <td>2.769707e+08</td>\n",
              "    </tr>\n",
              "    <tr>\n",
              "      <th>8</th>\n",
              "      <td>Average_MC_RM</td>\n",
              "      <td>1.145304e+00</td>\n",
              "    </tr>\n",
              "    <tr>\n",
              "      <th>9</th>\n",
              "      <td>F-NaOH_Spend_Liquor</td>\n",
              "      <td>2.227562e+00</td>\n",
              "    </tr>\n",
              "    <tr>\n",
              "      <th>10</th>\n",
              "      <td>A/C_Spend_Liquor</td>\n",
              "      <td>3.074687e+00</td>\n",
              "    </tr>\n",
              "    <tr>\n",
              "      <th>11</th>\n",
              "      <td>SC_Spend_Liquor</td>\n",
              "      <td>1.153801e+00</td>\n",
              "    </tr>\n",
              "    <tr>\n",
              "      <th>12</th>\n",
              "      <td>F-NaOH_SLE_Outlet</td>\n",
              "      <td>1.243258e+00</td>\n",
              "    </tr>\n",
              "    <tr>\n",
              "      <th>13</th>\n",
              "      <td>A/C_SLE_Outlet</td>\n",
              "      <td>1.410694e+00</td>\n",
              "    </tr>\n",
              "    <tr>\n",
              "      <th>14</th>\n",
              "      <td>F-NaOH_BDH-P-102</td>\n",
              "      <td>3.059319e+00</td>\n",
              "    </tr>\n",
              "    <tr>\n",
              "      <th>15</th>\n",
              "      <td>A/C_BDH-P-102</td>\n",
              "      <td>2.702600e+00</td>\n",
              "    </tr>\n",
              "    <tr>\n",
              "      <th>16</th>\n",
              "      <td>F-NaOH_BOS</td>\n",
              "      <td>3.324576e+00</td>\n",
              "    </tr>\n",
              "    <tr>\n",
              "      <th>17</th>\n",
              "      <td>A/C_BOS</td>\n",
              "      <td>2.331846e+00</td>\n",
              "    </tr>\n",
              "    <tr>\n",
              "      <th>18</th>\n",
              "      <td>SiO2_BOS</td>\n",
              "      <td>1.050627e+00</td>\n",
              "    </tr>\n",
              "    <tr>\n",
              "      <th>19</th>\n",
              "      <td>SC_BOS</td>\n",
              "      <td>1.304244e+00</td>\n",
              "    </tr>\n",
              "    <tr>\n",
              "      <th>20</th>\n",
              "      <td>F-NaOH_PFS_Filtrate</td>\n",
              "      <td>2.758636e+00</td>\n",
              "    </tr>\n",
              "    <tr>\n",
              "      <th>21</th>\n",
              "      <td>A/C_PFS_Filtrate</td>\n",
              "      <td>2.621157e+00</td>\n",
              "    </tr>\n",
              "    <tr>\n",
              "      <th>22</th>\n",
              "      <td>A/C_Pregnant_Liquor</td>\n",
              "      <td>3.065777e+00</td>\n",
              "    </tr>\n",
              "    <tr>\n",
              "      <th>23</th>\n",
              "      <td>Na2CO3_Pregnant_Liquor</td>\n",
              "      <td>1.945446e+00</td>\n",
              "    </tr>\n",
              "    <tr>\n",
              "      <th>24</th>\n",
              "      <td>F/T-NaOH_Pregnant_Liquor</td>\n",
              "      <td>1.045107e+00</td>\n",
              "    </tr>\n",
              "  </tbody>\n",
              "</table>\n",
              "</div>\n",
              "      <button class=\"colab-df-convert\" onclick=\"convertToInteractive('df-d4870f41-f5ac-4b90-b329-ff23bff88f60')\"\n",
              "              title=\"Convert this dataframe to an interactive table.\"\n",
              "              style=\"display:none;\">\n",
              "        \n",
              "  <svg xmlns=\"http://www.w3.org/2000/svg\" height=\"24px\"viewBox=\"0 0 24 24\"\n",
              "       width=\"24px\">\n",
              "    <path d=\"M0 0h24v24H0V0z\" fill=\"none\"/>\n",
              "    <path d=\"M18.56 5.44l.94 2.06.94-2.06 2.06-.94-2.06-.94-.94-2.06-.94 2.06-2.06.94zm-11 1L8.5 8.5l.94-2.06 2.06-.94-2.06-.94L8.5 2.5l-.94 2.06-2.06.94zm10 10l.94 2.06.94-2.06 2.06-.94-2.06-.94-.94-2.06-.94 2.06-2.06.94z\"/><path d=\"M17.41 7.96l-1.37-1.37c-.4-.4-.92-.59-1.43-.59-.52 0-1.04.2-1.43.59L10.3 9.45l-7.72 7.72c-.78.78-.78 2.05 0 2.83L4 21.41c.39.39.9.59 1.41.59.51 0 1.02-.2 1.41-.59l7.78-7.78 2.81-2.81c.8-.78.8-2.07 0-2.86zM5.41 20L4 18.59l7.72-7.72 1.47 1.35L5.41 20z\"/>\n",
              "  </svg>\n",
              "      </button>\n",
              "      \n",
              "  <style>\n",
              "    .colab-df-container {\n",
              "      display:flex;\n",
              "      flex-wrap:wrap;\n",
              "      gap: 12px;\n",
              "    }\n",
              "\n",
              "    .colab-df-convert {\n",
              "      background-color: #E8F0FE;\n",
              "      border: none;\n",
              "      border-radius: 50%;\n",
              "      cursor: pointer;\n",
              "      display: none;\n",
              "      fill: #1967D2;\n",
              "      height: 32px;\n",
              "      padding: 0 0 0 0;\n",
              "      width: 32px;\n",
              "    }\n",
              "\n",
              "    .colab-df-convert:hover {\n",
              "      background-color: #E2EBFA;\n",
              "      box-shadow: 0px 1px 2px rgba(60, 64, 67, 0.3), 0px 1px 3px 1px rgba(60, 64, 67, 0.15);\n",
              "      fill: #174EA6;\n",
              "    }\n",
              "\n",
              "    [theme=dark] .colab-df-convert {\n",
              "      background-color: #3B4455;\n",
              "      fill: #D2E3FC;\n",
              "    }\n",
              "\n",
              "    [theme=dark] .colab-df-convert:hover {\n",
              "      background-color: #434B5C;\n",
              "      box-shadow: 0px 1px 3px 1px rgba(0, 0, 0, 0.15);\n",
              "      filter: drop-shadow(0px 1px 2px rgba(0, 0, 0, 0.3));\n",
              "      fill: #FFFFFF;\n",
              "    }\n",
              "  </style>\n",
              "\n",
              "      <script>\n",
              "        const buttonEl =\n",
              "          document.querySelector('#df-d4870f41-f5ac-4b90-b329-ff23bff88f60 button.colab-df-convert');\n",
              "        buttonEl.style.display =\n",
              "          google.colab.kernel.accessAllowed ? 'block' : 'none';\n",
              "\n",
              "        async function convertToInteractive(key) {\n",
              "          const element = document.querySelector('#df-d4870f41-f5ac-4b90-b329-ff23bff88f60');\n",
              "          const dataTable =\n",
              "            await google.colab.kernel.invokeFunction('convertToInteractive',\n",
              "                                                     [key], {});\n",
              "          if (!dataTable) return;\n",
              "\n",
              "          const docLinkHtml = 'Like what you see? Visit the ' +\n",
              "            '<a target=\"_blank\" href=https://colab.research.google.com/notebooks/data_table.ipynb>data table notebook</a>'\n",
              "            + ' to learn more about interactive tables.';\n",
              "          element.innerHTML = '';\n",
              "          dataTable['output_type'] = 'display_data';\n",
              "          await google.colab.output.renderOutput(dataTable, element);\n",
              "          const docLink = document.createElement('div');\n",
              "          docLink.innerHTML = docLinkHtml;\n",
              "          element.appendChild(docLink);\n",
              "        }\n",
              "      </script>\n",
              "    </div>\n",
              "  </div>\n",
              "  "
            ]
          },
          "metadata": {},
          "execution_count": 378
        }
      ]
    },
    {
      "cell_type": "markdown",
      "source": [
        "Observation:\n",
        "* VIF Score for `Al2O3_Bauxite`, `Fe2O3_Bauxite`, `R-SiO2_Bauxite`, `THA_Bauxite` are high.\n",
        "* Let's check multicollinearity on heatmap correlation."
      ],
      "metadata": {
        "id": "JTEuQkZ4-6_u"
      }
    },
    {
      "cell_type": "code",
      "source": [
        "# heatmap correlation\n",
        "liquor_train = pd.concat([feature_liquor_train, target_liquor_train], axis=1)\n",
        "corr = liquor_train.corr()\n",
        "\n",
        "plt.figure(figsize=(20,7))\n",
        "sns.heatmap(corr, annot=True, fmt='.2f')\n",
        "plt.show()"
      ],
      "metadata": {
        "colab": {
          "base_uri": "https://localhost:8080/",
          "height": 457
        },
        "id": "rJ9n6DIl17t_",
        "outputId": "57afec0c-0768-4063-8379-0a8cf74506d9"
      },
      "execution_count": 379,
      "outputs": [
        {
          "output_type": "display_data",
          "data": {
            "text/plain": [
              "<Figure size 1440x504 with 2 Axes>"
            ],
            "image/png": "[encoded data removed]"
          },
          "metadata": {
            "needs_background": "light"
          }
        }
      ]
    },
    {
      "cell_type": "markdown",
      "source": [
        "Observation:\n",
        "* `Al2O3` is lowest correlated with target variable. So we decide to drop `Al2O3` column."
      ],
      "metadata": {
        "id": "ql7Q_F_6_WV2"
      }
    },
    {
      "cell_type": "markdown",
      "source": [
        "## Drop Multicollinear Features"
      ],
      "metadata": {
        "id": "Q38hmErz_1ud"
      }
    },
    {
      "cell_type": "code",
      "source": [
        "feature_liquor_train = feature_liquor_train.drop(columns=['Al2O3_Bauxite'])\n",
        "feature_liquor_validation = feature_liquor_validation.drop(columns=['Al2O3_Bauxite'])\n",
        "feature_liquor_test = feature_liquor_test.drop(columns=['Al2O3_Bauxite'])"
      ],
      "metadata": {
        "id": "lTTnM0xc8yCS"
      },
      "execution_count": 380,
      "outputs": []
    },
    {
      "cell_type": "markdown",
      "source": [
        "# Recheck VIF"
      ],
      "metadata": {
        "id": "4ttRJzgHABIL"
      }
    },
    {
      "cell_type": "code",
      "source": [
        "# calculate VIF scores for each feature\n",
        "from statsmodels.stats.outliers_influence import variance_inflation_factor as vif \n",
        "from statsmodels.tools.tools import add_constant\n",
        "\n",
        "X = add_constant(feature_liquor_train)\n",
        "\n",
        "vif_df = pd.DataFrame([vif(X.values, i) \n",
        "               for i in range(X.shape[1])], \n",
        "              index=X.columns).reset_index()\n",
        "vif_df.columns = ['feature','vif_score']\n",
        "vif_df = vif_df.loc[vif_df.feature!='const']\n",
        "vif_df"
      ],
      "metadata": {
        "colab": {
          "base_uri": "https://localhost:8080/",
          "height": 825
        },
        "id": "_mXJe77w9ShE",
        "outputId": "9e4d4dd4-24e9-45d0-cef8-731877e8073f"
      },
      "execution_count": 381,
      "outputs": [
        {
          "output_type": "stream",
          "name": "stderr",
          "text": [
            "/usr/local/lib/python3.7/dist-packages/statsmodels/tsa/tsatools.py:117: FutureWarning: In a future version of pandas all arguments of concat except for the argument 'objs' will be keyword-only\n",
            "  x = pd.concat(x[::order], 1)\n"
          ]
        },
        {
          "output_type": "execute_result",
          "data": {
            "text/plain": [
              "                     feature  vif_score\n",
              "1              Fe2O3_Bauxite   3.192370\n",
              "2             T-SiO2_Bauxite   2.202995\n",
              "3             R-SiO2_Bauxite   2.456276\n",
              "4               TiO2_Bauxite   2.571758\n",
              "5                LOI_Bauxite   1.325018\n",
              "6                THA_Bauxite   3.059070\n",
              "7              Average_MC_RM   1.142344\n",
              "8        F-NaOH_Spend_Liquor   2.227549\n",
              "9           A/C_Spend_Liquor   3.072957\n",
              "10           SC_Spend_Liquor   1.104283\n",
              "11         F-NaOH_SLE_Outlet   1.236551\n",
              "12            A/C_SLE_Outlet   1.410690\n",
              "13          F-NaOH_BDH-P-102   3.047468\n",
              "14             A/C_BDH-P-102   2.695962\n",
              "15                F-NaOH_BOS   3.322821\n",
              "16                   A/C_BOS   2.330706\n",
              "17                  SiO2_BOS   1.050576\n",
              "18                    SC_BOS   1.245524\n",
              "19       F-NaOH_PFS_Filtrate   2.726755\n",
              "20          A/C_PFS_Filtrate   2.614002\n",
              "21       A/C_Pregnant_Liquor   3.034520\n",
              "22    Na2CO3_Pregnant_Liquor   1.945286\n",
              "23  F/T-NaOH_Pregnant_Liquor   1.045102"
            ],
            "text/html": [
              "\n",
              "  <div id=\"df-dbe36da0-be55-4554-9e95-7d3a60ad220a\">\n",
              "    <div class=\"colab-df-container\">\n",
              "      <div>\n",
              "<style scoped>\n",
              "    .dataframe tbody tr th:only-of-type {\n",
              "        vertical-align: middle;\n",
              "    }\n",
              "\n",
              "    .dataframe tbody tr th {\n",
              "        vertical-align: top;\n",
              "    }\n",
              "\n",
              "    .dataframe thead th {\n",
              "        text-align: right;\n",
              "    }\n",
              "</style>\n",
              "<table border=\"1\" class=\"dataframe\">\n",
              "  <thead>\n",
              "    <tr style=\"text-align: right;\">\n",
              "      <th></th>\n",
              "      <th>feature</th>\n",
              "      <th>vif_score</th>\n",
              "    </tr>\n",
              "  </thead>\n",
              "  <tbody>\n",
              "    <tr>\n",
              "      <th>1</th>\n",
              "      <td>Fe2O3_Bauxite</td>\n",
              "      <td>3.192370</td>\n",
              "    </tr>\n",
              "    <tr>\n",
              "      <th>2</th>\n",
              "      <td>T-SiO2_Bauxite</td>\n",
              "      <td>2.202995</td>\n",
              "    </tr>\n",
              "    <tr>\n",
              "      <th>3</th>\n",
              "      <td>R-SiO2_Bauxite</td>\n",
              "      <td>2.456276</td>\n",
              "    </tr>\n",
              "    <tr>\n",
              "      <th>4</th>\n",
              "      <td>TiO2_Bauxite</td>\n",
              "      <td>2.571758</td>\n",
              "    </tr>\n",
              "    <tr>\n",
              "      <th>5</th>\n",
              "      <td>LOI_Bauxite</td>\n",
              "      <td>1.325018</td>\n",
              "    </tr>\n",
              "    <tr>\n",
              "      <th>6</th>\n",
              "      <td>THA_Bauxite</td>\n",
              "      <td>3.059070</td>\n",
              "    </tr>\n",
              "    <tr>\n",
              "      <th>7</th>\n",
              "      <td>Average_MC_RM</td>\n",
              "      <td>1.142344</td>\n",
              "    </tr>\n",
              "    <tr>\n",
              "      <th>8</th>\n",
              "      <td>F-NaOH_Spend_Liquor</td>\n",
              "      <td>2.227549</td>\n",
              "    </tr>\n",
              "    <tr>\n",
              "      <th>9</th>\n",
              "      <td>A/C_Spend_Liquor</td>\n",
              "      <td>3.072957</td>\n",
              "    </tr>\n",
              "    <tr>\n",
              "      <th>10</th>\n",
              "      <td>SC_Spend_Liquor</td>\n",
              "      <td>1.104283</td>\n",
              "    </tr>\n",
              "    <tr>\n",
              "      <th>11</th>\n",
              "      <td>F-NaOH_SLE_Outlet</td>\n",
              "      <td>1.236551</td>\n",
              "    </tr>\n",
              "    <tr>\n",
              "      <th>12</th>\n",
              "      <td>A/C_SLE_Outlet</td>\n",
              "      <td>1.410690</td>\n",
              "    </tr>\n",
              "    <tr>\n",
              "      <th>13</th>\n",
              "      <td>F-NaOH_BDH-P-102</td>\n",
              "      <td>3.047468</td>\n",
              "    </tr>\n",
              "    <tr>\n",
              "      <th>14</th>\n",
              "      <td>A/C_BDH-P-102</td>\n",
              "      <td>2.695962</td>\n",
              "    </tr>\n",
              "    <tr>\n",
              "      <th>15</th>\n",
              "      <td>F-NaOH_BOS</td>\n",
              "      <td>3.322821</td>\n",
              "    </tr>\n",
              "    <tr>\n",
              "      <th>16</th>\n",
              "      <td>A/C_BOS</td>\n",
              "      <td>2.330706</td>\n",
              "    </tr>\n",
              "    <tr>\n",
              "      <th>17</th>\n",
              "      <td>SiO2_BOS</td>\n",
              "      <td>1.050576</td>\n",
              "    </tr>\n",
              "    <tr>\n",
              "      <th>18</th>\n",
              "      <td>SC_BOS</td>\n",
              "      <td>1.245524</td>\n",
              "    </tr>\n",
              "    <tr>\n",
              "      <th>19</th>\n",
              "      <td>F-NaOH_PFS_Filtrate</td>\n",
              "      <td>2.726755</td>\n",
              "    </tr>\n",
              "    <tr>\n",
              "      <th>20</th>\n",
              "      <td>A/C_PFS_Filtrate</td>\n",
              "      <td>2.614002</td>\n",
              "    </tr>\n",
              "    <tr>\n",
              "      <th>21</th>\n",
              "      <td>A/C_Pregnant_Liquor</td>\n",
              "      <td>3.034520</td>\n",
              "    </tr>\n",
              "    <tr>\n",
              "      <th>22</th>\n",
              "      <td>Na2CO3_Pregnant_Liquor</td>\n",
              "      <td>1.945286</td>\n",
              "    </tr>\n",
              "    <tr>\n",
              "      <th>23</th>\n",
              "      <td>F/T-NaOH_Pregnant_Liquor</td>\n",
              "      <td>1.045102</td>\n",
              "    </tr>\n",
              "  </tbody>\n",
              "</table>\n",
              "</div>\n",
              "      <button class=\"colab-df-convert\" onclick=\"convertToInteractive('df-dbe36da0-be55-4554-9e95-7d3a60ad220a')\"\n",
              "              title=\"Convert this dataframe to an interactive table.\"\n",
              "              style=\"display:none;\">\n",
              "        \n",
              "  <svg xmlns=\"http://www.w3.org/2000/svg\" height=\"24px\"viewBox=\"0 0 24 24\"\n",
              "       width=\"24px\">\n",
              "    <path d=\"M0 0h24v24H0V0z\" fill=\"none\"/>\n",
              "    <path d=\"M18.56 5.44l.94 2.06.94-2.06 2.06-.94-2.06-.94-.94-2.06-.94 2.06-2.06.94zm-11 1L8.5 8.5l.94-2.06 2.06-.94-2.06-.94L8.5 2.5l-.94 2.06-2.06.94zm10 10l.94 2.06.94-2.06 2.06-.94-2.06-.94-.94-2.06-.94 2.06-2.06.94z\"/><path d=\"M17.41 7.96l-1.37-1.37c-.4-.4-.92-.59-1.43-.59-.52 0-1.04.2-1.43.59L10.3 9.45l-7.72 7.72c-.78.78-.78 2.05 0 2.83L4 21.41c.39.39.9.59 1.41.59.51 0 1.02-.2 1.41-.59l7.78-7.78 2.81-2.81c.8-.78.8-2.07 0-2.86zM5.41 20L4 18.59l7.72-7.72 1.47 1.35L5.41 20z\"/>\n",
              "  </svg>\n",
              "      </button>\n",
              "      \n",
              "  <style>\n",
              "    .colab-df-container {\n",
              "      display:flex;\n",
              "      flex-wrap:wrap;\n",
              "      gap: 12px;\n",
              "    }\n",
              "\n",
              "    .colab-df-convert {\n",
              "      background-color: #E8F0FE;\n",
              "      border: none;\n",
              "      border-radius: 50%;\n",
              "      cursor: pointer;\n",
              "      display: none;\n",
              "      fill: #1967D2;\n",
              "      height: 32px;\n",
              "      padding: 0 0 0 0;\n",
              "      width: 32px;\n",
              "    }\n",
              "\n",
              "    .colab-df-convert:hover {\n",
              "      background-color: #E2EBFA;\n",
              "      box-shadow: 0px 1px 2px rgba(60, 64, 67, 0.3), 0px 1px 3px 1px rgba(60, 64, 67, 0.15);\n",
              "      fill: #174EA6;\n",
              "    }\n",
              "\n",
              "    [theme=dark] .colab-df-convert {\n",
              "      background-color: #3B4455;\n",
              "      fill: #D2E3FC;\n",
              "    }\n",
              "\n",
              "    [theme=dark] .colab-df-convert:hover {\n",
              "      background-color: #434B5C;\n",
              "      box-shadow: 0px 1px 3px 1px rgba(0, 0, 0, 0.15);\n",
              "      filter: drop-shadow(0px 1px 2px rgba(0, 0, 0, 0.3));\n",
              "      fill: #FFFFFF;\n",
              "    }\n",
              "  </style>\n",
              "\n",
              "      <script>\n",
              "        const buttonEl =\n",
              "          document.querySelector('#df-dbe36da0-be55-4554-9e95-7d3a60ad220a button.colab-df-convert');\n",
              "        buttonEl.style.display =\n",
              "          google.colab.kernel.accessAllowed ? 'block' : 'none';\n",
              "\n",
              "        async function convertToInteractive(key) {\n",
              "          const element = document.querySelector('#df-dbe36da0-be55-4554-9e95-7d3a60ad220a');\n",
              "          const dataTable =\n",
              "            await google.colab.kernel.invokeFunction('convertToInteractive',\n",
              "                                                     [key], {});\n",
              "          if (!dataTable) return;\n",
              "\n",
              "          const docLinkHtml = 'Like what you see? Visit the ' +\n",
              "            '<a target=\"_blank\" href=https://colab.research.google.com/notebooks/data_table.ipynb>data table notebook</a>'\n",
              "            + ' to learn more about interactive tables.';\n",
              "          element.innerHTML = '';\n",
              "          dataTable['output_type'] = 'display_data';\n",
              "          await google.colab.output.renderOutput(dataTable, element);\n",
              "          const docLink = document.createElement('div');\n",
              "          docLink.innerHTML = docLinkHtml;\n",
              "          element.appendChild(docLink);\n",
              "        }\n",
              "      </script>\n",
              "    </div>\n",
              "  </div>\n",
              "  "
            ]
          },
          "metadata": {},
          "execution_count": 381
        }
      ]
    },
    {
      "cell_type": "markdown",
      "source": [
        "Good"
      ],
      "metadata": {
        "id": "bRtXvyvpACkT"
      }
    },
    {
      "cell_type": "markdown",
      "source": [
        "# Linear Regression"
      ],
      "metadata": {
        "id": "Hsgh_bXSBsEp"
      }
    },
    {
      "cell_type": "markdown",
      "source": [
        "## Model Training"
      ],
      "metadata": {
        "id": "Be6TAUaNBwGV"
      }
    },
    {
      "cell_type": "code",
      "source": [
        "from sklearn.linear_model import LinearRegression\n",
        "\n",
        "# define the model\n",
        "linear_reg = LinearRegression()\n",
        "\n",
        "# train the model\n",
        "X_liquor_train = feature_liquor_train.to_numpy()\n",
        "y_liquor_train = target_liquor_train.to_numpy()\n",
        "\n",
        "linear_reg.fit(X_liquor_train, y_liquor_train)"
      ],
      "metadata": {
        "colab": {
          "base_uri": "https://localhost:8080/"
        },
        "id": "wm6WBvph2Wgj",
        "outputId": "ba2a0989-7ea4-4da9-9bde-278f2d64fd56"
      },
      "execution_count": 382,
      "outputs": [
        {
          "output_type": "execute_result",
          "data": {
            "text/plain": [
              "LinearRegression()"
            ]
          },
          "metadata": {},
          "execution_count": 382
        }
      ]
    },
    {
      "cell_type": "code",
      "source": [
        "# retrieve the coefficients\n",
        "# show as a nice dataframe\n",
        "\n",
        "data = feature_liquor_train\n",
        "model = linear_reg\n",
        "\n",
        "coef_df = pd.DataFrame({\n",
        "    'feature':['intercept'] + data.columns.tolist(),\n",
        "    'coefficient':[model.intercept_[0]] + list(model.coef_[0])\n",
        "})\n",
        "\n",
        "coef_df"
      ],
      "metadata": {
        "colab": {
          "base_uri": "https://localhost:8080/",
          "height": 802
        },
        "id": "_0yMwpN_2tBu",
        "outputId": "132fb357-7a89-475f-adac-259d40e06912"
      },
      "execution_count": 383,
      "outputs": [
        {
          "output_type": "execute_result",
          "data": {
            "text/plain": [
              "                     feature  coefficient\n",
              "0                  intercept     5.024827\n",
              "1              Fe2O3_Bauxite    -0.257750\n",
              "2             T-SiO2_Bauxite    -0.152889\n",
              "3             R-SiO2_Bauxite    -0.193299\n",
              "4               TiO2_Bauxite    -2.010209\n",
              "5                LOI_Bauxite     0.057629\n",
              "6                THA_Bauxite    -0.090476\n",
              "7              Average_MC_RM    -0.071322\n",
              "8        F-NaOH_Spend_Liquor     0.026701\n",
              "9           A/C_Spend_Liquor    -2.470938\n",
              "10           SC_Spend_Liquor    -0.013233\n",
              "11         F-NaOH_SLE_Outlet     0.004974\n",
              "12            A/C_SLE_Outlet    -0.210592\n",
              "13          F-NaOH_BDH-P-102     0.297628\n",
              "14             A/C_BDH-P-102    16.856608\n",
              "15                F-NaOH_BOS     0.093762\n",
              "16                   A/C_BOS     4.212322\n",
              "17                  SiO2_BOS     0.029242\n",
              "18                    SC_BOS    -0.002203\n",
              "19       F-NaOH_PFS_Filtrate     0.266429\n",
              "20          A/C_PFS_Filtrate     9.290886\n",
              "21       A/C_Pregnant_Liquor   -18.453412\n",
              "22    Na2CO3_Pregnant_Liquor     1.263721\n",
              "23  F/T-NaOH_Pregnant_Liquor     0.044490"
            ],
            "text/html": [
              "\n",
              "  <div id=\"df-ccdd383d-8e65-4abb-8de9-f9ed4a19398f\">\n",
              "    <div class=\"colab-df-container\">\n",
              "      <div>\n",
              "<style scoped>\n",
              "    .dataframe tbody tr th:only-of-type {\n",
              "        vertical-align: middle;\n",
              "    }\n",
              "\n",
              "    .dataframe tbody tr th {\n",
              "        vertical-align: top;\n",
              "    }\n",
              "\n",
              "    .dataframe thead th {\n",
              "        text-align: right;\n",
              "    }\n",
              "</style>\n",
              "<table border=\"1\" class=\"dataframe\">\n",
              "  <thead>\n",
              "    <tr style=\"text-align: right;\">\n",
              "      <th></th>\n",
              "      <th>feature</th>\n",
              "      <th>coefficient</th>\n",
              "    </tr>\n",
              "  </thead>\n",
              "  <tbody>\n",
              "    <tr>\n",
              "      <th>0</th>\n",
              "      <td>intercept</td>\n",
              "      <td>5.024827</td>\n",
              "    </tr>\n",
              "    <tr>\n",
              "      <th>1</th>\n",
              "      <td>Fe2O3_Bauxite</td>\n",
              "      <td>-0.257750</td>\n",
              "    </tr>\n",
              "    <tr>\n",
              "      <th>2</th>\n",
              "      <td>T-SiO2_Bauxite</td>\n",
              "      <td>-0.152889</td>\n",
              "    </tr>\n",
              "    <tr>\n",
              "      <th>3</th>\n",
              "      <td>R-SiO2_Bauxite</td>\n",
              "      <td>-0.193299</td>\n",
              "    </tr>\n",
              "    <tr>\n",
              "      <th>4</th>\n",
              "      <td>TiO2_Bauxite</td>\n",
              "      <td>-2.010209</td>\n",
              "    </tr>\n",
              "    <tr>\n",
              "      <th>5</th>\n",
              "      <td>LOI_Bauxite</td>\n",
              "      <td>0.057629</td>\n",
              "    </tr>\n",
              "    <tr>\n",
              "      <th>6</th>\n",
              "      <td>THA_Bauxite</td>\n",
              "      <td>-0.090476</td>\n",
              "    </tr>\n",
              "    <tr>\n",
              "      <th>7</th>\n",
              "      <td>Average_MC_RM</td>\n",
              "      <td>-0.071322</td>\n",
              "    </tr>\n",
              "    <tr>\n",
              "      <th>8</th>\n",
              "      <td>F-NaOH_Spend_Liquor</td>\n",
              "      <td>0.026701</td>\n",
              "    </tr>\n",
              "    <tr>\n",
              "      <th>9</th>\n",
              "      <td>A/C_Spend_Liquor</td>\n",
              "      <td>-2.470938</td>\n",
              "    </tr>\n",
              "    <tr>\n",
              "      <th>10</th>\n",
              "      <td>SC_Spend_Liquor</td>\n",
              "      <td>-0.013233</td>\n",
              "    </tr>\n",
              "    <tr>\n",
              "      <th>11</th>\n",
              "      <td>F-NaOH_SLE_Outlet</td>\n",
              "      <td>0.004974</td>\n",
              "    </tr>\n",
              "    <tr>\n",
              "      <th>12</th>\n",
              "      <td>A/C_SLE_Outlet</td>\n",
              "      <td>-0.210592</td>\n",
              "    </tr>\n",
              "    <tr>\n",
              "      <th>13</th>\n",
              "      <td>F-NaOH_BDH-P-102</td>\n",
              "      <td>0.297628</td>\n",
              "    </tr>\n",
              "    <tr>\n",
              "      <th>14</th>\n",
              "      <td>A/C_BDH-P-102</td>\n",
              "      <td>16.856608</td>\n",
              "    </tr>\n",
              "    <tr>\n",
              "      <th>15</th>\n",
              "      <td>F-NaOH_BOS</td>\n",
              "      <td>0.093762</td>\n",
              "    </tr>\n",
              "    <tr>\n",
              "      <th>16</th>\n",
              "      <td>A/C_BOS</td>\n",
              "      <td>4.212322</td>\n",
              "    </tr>\n",
              "    <tr>\n",
              "      <th>17</th>\n",
              "      <td>SiO2_BOS</td>\n",
              "      <td>0.029242</td>\n",
              "    </tr>\n",
              "    <tr>\n",
              "      <th>18</th>\n",
              "      <td>SC_BOS</td>\n",
              "      <td>-0.002203</td>\n",
              "    </tr>\n",
              "    <tr>\n",
              "      <th>19</th>\n",
              "      <td>F-NaOH_PFS_Filtrate</td>\n",
              "      <td>0.266429</td>\n",
              "    </tr>\n",
              "    <tr>\n",
              "      <th>20</th>\n",
              "      <td>A/C_PFS_Filtrate</td>\n",
              "      <td>9.290886</td>\n",
              "    </tr>\n",
              "    <tr>\n",
              "      <th>21</th>\n",
              "      <td>A/C_Pregnant_Liquor</td>\n",
              "      <td>-18.453412</td>\n",
              "    </tr>\n",
              "    <tr>\n",
              "      <th>22</th>\n",
              "      <td>Na2CO3_Pregnant_Liquor</td>\n",
              "      <td>1.263721</td>\n",
              "    </tr>\n",
              "    <tr>\n",
              "      <th>23</th>\n",
              "      <td>F/T-NaOH_Pregnant_Liquor</td>\n",
              "      <td>0.044490</td>\n",
              "    </tr>\n",
              "  </tbody>\n",
              "</table>\n",
              "</div>\n",
              "      <button class=\"colab-df-convert\" onclick=\"convertToInteractive('df-ccdd383d-8e65-4abb-8de9-f9ed4a19398f')\"\n",
              "              title=\"Convert this dataframe to an interactive table.\"\n",
              "              style=\"display:none;\">\n",
              "        \n",
              "  <svg xmlns=\"http://www.w3.org/2000/svg\" height=\"24px\"viewBox=\"0 0 24 24\"\n",
              "       width=\"24px\">\n",
              "    <path d=\"M0 0h24v24H0V0z\" fill=\"none\"/>\n",
              "    <path d=\"M18.56 5.44l.94 2.06.94-2.06 2.06-.94-2.06-.94-.94-2.06-.94 2.06-2.06.94zm-11 1L8.5 8.5l.94-2.06 2.06-.94-2.06-.94L8.5 2.5l-.94 2.06-2.06.94zm10 10l.94 2.06.94-2.06 2.06-.94-2.06-.94-.94-2.06-.94 2.06-2.06.94z\"/><path d=\"M17.41 7.96l-1.37-1.37c-.4-.4-.92-.59-1.43-.59-.52 0-1.04.2-1.43.59L10.3 9.45l-7.72 7.72c-.78.78-.78 2.05 0 2.83L4 21.41c.39.39.9.59 1.41.59.51 0 1.02-.2 1.41-.59l7.78-7.78 2.81-2.81c.8-.78.8-2.07 0-2.86zM5.41 20L4 18.59l7.72-7.72 1.47 1.35L5.41 20z\"/>\n",
              "  </svg>\n",
              "      </button>\n",
              "      \n",
              "  <style>\n",
              "    .colab-df-container {\n",
              "      display:flex;\n",
              "      flex-wrap:wrap;\n",
              "      gap: 12px;\n",
              "    }\n",
              "\n",
              "    .colab-df-convert {\n",
              "      background-color: #E8F0FE;\n",
              "      border: none;\n",
              "      border-radius: 50%;\n",
              "      cursor: pointer;\n",
              "      display: none;\n",
              "      fill: #1967D2;\n",
              "      height: 32px;\n",
              "      padding: 0 0 0 0;\n",
              "      width: 32px;\n",
              "    }\n",
              "\n",
              "    .colab-df-convert:hover {\n",
              "      background-color: #E2EBFA;\n",
              "      box-shadow: 0px 1px 2px rgba(60, 64, 67, 0.3), 0px 1px 3px 1px rgba(60, 64, 67, 0.15);\n",
              "      fill: #174EA6;\n",
              "    }\n",
              "\n",
              "    [theme=dark] .colab-df-convert {\n",
              "      background-color: #3B4455;\n",
              "      fill: #D2E3FC;\n",
              "    }\n",
              "\n",
              "    [theme=dark] .colab-df-convert:hover {\n",
              "      background-color: #434B5C;\n",
              "      box-shadow: 0px 1px 3px 1px rgba(0, 0, 0, 0.15);\n",
              "      filter: drop-shadow(0px 1px 2px rgba(0, 0, 0, 0.3));\n",
              "      fill: #FFFFFF;\n",
              "    }\n",
              "  </style>\n",
              "\n",
              "      <script>\n",
              "        const buttonEl =\n",
              "          document.querySelector('#df-ccdd383d-8e65-4abb-8de9-f9ed4a19398f button.colab-df-convert');\n",
              "        buttonEl.style.display =\n",
              "          google.colab.kernel.accessAllowed ? 'block' : 'none';\n",
              "\n",
              "        async function convertToInteractive(key) {\n",
              "          const element = document.querySelector('#df-ccdd383d-8e65-4abb-8de9-f9ed4a19398f');\n",
              "          const dataTable =\n",
              "            await google.colab.kernel.invokeFunction('convertToInteractive',\n",
              "                                                     [key], {});\n",
              "          if (!dataTable) return;\n",
              "\n",
              "          const docLinkHtml = 'Like what you see? Visit the ' +\n",
              "            '<a target=\"_blank\" href=https://colab.research.google.com/notebooks/data_table.ipynb>data table notebook</a>'\n",
              "            + ' to learn more about interactive tables.';\n",
              "          element.innerHTML = '';\n",
              "          dataTable['output_type'] = 'display_data';\n",
              "          await google.colab.output.renderOutput(dataTable, element);\n",
              "          const docLink = document.createElement('div');\n",
              "          docLink.innerHTML = docLinkHtml;\n",
              "          element.appendChild(docLink);\n",
              "        }\n",
              "      </script>\n",
              "    </div>\n",
              "  </div>\n",
              "  "
            ]
          },
          "metadata": {},
          "execution_count": 383
        }
      ]
    },
    {
      "cell_type": "markdown",
      "source": [
        "## Model Diagnostic"
      ],
      "metadata": {
        "id": "CJ2nD0SoCBMI"
      }
    },
    {
      "cell_type": "code",
      "source": [
        "# calculate residuals\n",
        "y_predict_train = linear_reg.predict(X_liquor_train)\n",
        "residual = y_liquor_train - y_predict_train\n",
        "\n",
        "#preprocess shape\n",
        "y_predict_train = np.array([value for nested_array in y_predict_train for value in nested_array])\n",
        "residual = np.array([value for nested_array in residual for value in nested_array])\n",
        "\n",
        "# prepare dataframe\n",
        "# >1 predictor --> predicted value VS residual\n",
        "df_resid = pd.DataFrame({\n",
        "    'x_axis': y_predict_train,\n",
        "    'residual': residual\n",
        "})\n",
        "\n",
        "# residual plot\n",
        "sns.scatterplot(data=df_resid, x=\"x_axis\", y=\"residual\")\n",
        "plt.axhline(0)\n",
        "plt.show()"
      ],
      "metadata": {
        "colab": {
          "base_uri": "https://localhost:8080/",
          "height": 280
        },
        "id": "wN45DUVe3Z2D",
        "outputId": "2b17ccde-9f68-4613-d9ac-dd39c018cb08"
      },
      "execution_count": 384,
      "outputs": [
        {
          "output_type": "display_data",
          "data": {
            "text/plain": [
              "<Figure size 432x288 with 1 Axes>"
            ],
            "image/png": "[encoded data removed]"
          },
          "metadata": {
            "needs_background": "light"
          }
        }
      ]
    },
    {
      "cell_type": "code",
      "source": [
        "# QQplot\n",
        "from sklearn.preprocessing import StandardScaler\n",
        "\n",
        "std_resid = StandardScaler().fit_transform(residual.reshape(-1,1))\n",
        "std_resid = np.array([value for nested_array in std_resid for value in nested_array])\n",
        "\n",
        "import statsmodels.api as sm\n",
        "sm.qqplot(std_resid, line='45')\n",
        "plt.show()"
      ],
      "metadata": {
        "colab": {
          "base_uri": "https://localhost:8080/",
          "height": 279
        },
        "id": "gvTpEeUSB5jf",
        "outputId": "3579f598-62e8-4c51-9092-1f9afb22209d"
      },
      "execution_count": 385,
      "outputs": [
        {
          "output_type": "display_data",
          "data": {
            "text/plain": [
              "<Figure size 432x288 with 1 Axes>"
            ],
            "image/png": "[encoded data removed]"
          },
          "metadata": {
            "needs_background": "light"
          }
        }
      ]
    },
    {
      "cell_type": "markdown",
      "source": [
        "Assumption:\n",
        "1. Linear relationships OK. The horizontal line y=0 is sufficient to represent the entire residual point.\n",
        "2. Variance stable: NO. The variation is from small (on the left) to wide (on the right).\n",
        "3. Independent residuals: OK. There is no conspicuous pattern in the adjacent residuals.\n",
        "4. Residuals distribution: OK. Mostly residuals are normally distributed."
      ],
      "metadata": {
        "id": "MwSJ4vb8AbPE"
      }
    },
    {
      "cell_type": "markdown",
      "source": [
        "## Model Evaluation"
      ],
      "metadata": {
        "id": "vfCYfC3YCGbT"
      }
    },
    {
      "cell_type": "markdown",
      "source": [
        "### Training Error"
      ],
      "metadata": {
        "id": "e56Ag_vkCI2k"
      }
    },
    {
      "cell_type": "code",
      "source": [
        "from sklearn.metrics import r2_score\n",
        "from sklearn.metrics import mean_squared_error\n",
        "\n",
        "print('R-squared for training data is {}'.format(r2_score(y_predict_train, y_liquor_train)))\n",
        "print('RMSE for training data is {}'.format(np.sqrt(mean_squared_error(y_predict_train, y_liquor_train))))"
      ],
      "metadata": {
        "colab": {
          "base_uri": "https://localhost:8080/"
        },
        "id": "c36Kgk6p2yMj",
        "outputId": "36dae38e-5673-4c34-9640-71dfa55faa0a"
      },
      "execution_count": 386,
      "outputs": [
        {
          "output_type": "stream",
          "name": "stdout",
          "text": [
            "R-squared for training data is 0.7782436133696946\n",
            "RMSE for training data is 2.650734921553442\n"
          ]
        }
      ]
    },
    {
      "cell_type": "markdown",
      "source": [
        "### Testing Error"
      ],
      "metadata": {
        "id": "WCxNag7aCM8-"
      }
    },
    {
      "cell_type": "code",
      "source": [
        "# prepare prediction result on test data\n",
        "X_liquor_test = feature_liquor_test.to_numpy()\n",
        "y_predict_test = linear_reg.predict(X_liquor_test)\n",
        "\n",
        "# ground truth target\n",
        "y_liquor_test = target_liquor_test.to_numpy()"
      ],
      "metadata": {
        "id": "Fa6OYMcC26QA"
      },
      "execution_count": 387,
      "outputs": []
    },
    {
      "cell_type": "code",
      "source": [
        "from sklearn.metrics import mean_squared_error\n",
        "\n",
        "print('RMSE for testing data is {}'.format(np.sqrt(mean_squared_error(y_predict_test, y_liquor_test))))"
      ],
      "metadata": {
        "colab": {
          "base_uri": "https://localhost:8080/"
        },
        "id": "tgNouiAi3tLB",
        "outputId": "be6a7a8e-2e77-4f5d-94d9-71df8a26ff17"
      },
      "execution_count": 388,
      "outputs": [
        {
          "output_type": "stream",
          "name": "stdout",
          "text": [
            "RMSE for testing data is 4.296471568876249\n"
          ]
        }
      ]
    },
    {
      "cell_type": "markdown",
      "source": [
        "Interpretation:\n",
        "\n",
        "77.82% of variability of F-NaOH Pregnant Liquor is successfully explained\n",
        "using all the features in the model.\n",
        "\n",
        "The standard deviation of prediction errors is 4.296. i.e. from the regression line, the residuals mostly deviate between +- 4.296."
      ],
      "metadata": {
        "id": "dSXoXY8fAzVT"
      }
    },
    {
      "cell_type": "markdown",
      "source": [
        "# Ridge Regression"
      ],
      "metadata": {
        "id": "slkVu37DCXZ5"
      }
    },
    {
      "cell_type": "markdown",
      "source": [
        "## Train Multiple Models"
      ],
      "metadata": {
        "id": "BxUJXj21CdDV"
      }
    },
    {
      "cell_type": "code",
      "source": [
        "from sklearn.linear_model import Ridge\n",
        "\n",
        "# train the model\n",
        "X_liquor_train = feature_liquor_train.to_numpy()\n",
        "y_liquor_train = target_liquor_train.to_numpy()\n",
        "y_liquor_train = y_liquor_train.reshape(len(y_liquor_train),)\n",
        "\n",
        "# define the model\n",
        "ridge_reg_pointzeroone = Ridge(alpha=0.01, random_state=42)\n",
        "ridge_reg_pointone = Ridge(alpha=0.1, random_state=42)\n",
        "ridge_reg_one = Ridge(alpha=1, random_state=42)\n",
        "ridge_reg_ten = Ridge(alpha=10, random_state=42)\n",
        "\n",
        "# fit the model (training)\n",
        "ridge_reg_pointzeroone.fit(X_liquor_train, y_liquor_train)\n",
        "ridge_reg_pointone.fit(X_liquor_train, y_liquor_train)\n",
        "ridge_reg_one.fit(X_liquor_train, y_liquor_train)\n",
        "ridge_reg_ten.fit(X_liquor_train, y_liquor_train)"
      ],
      "metadata": {
        "colab": {
          "base_uri": "https://localhost:8080/"
        },
        "id": "35ZdJRJr3w8u",
        "outputId": "444d998f-5d37-415a-850d-b73eb7ce766e"
      },
      "execution_count": 389,
      "outputs": [
        {
          "output_type": "execute_result",
          "data": {
            "text/plain": [
              "Ridge(alpha=10, random_state=42)"
            ]
          },
          "metadata": {},
          "execution_count": 389
        }
      ]
    },
    {
      "cell_type": "markdown",
      "source": [
        "## Find Best Model"
      ],
      "metadata": {
        "id": "jB8XeBMeChzM"
      }
    },
    {
      "cell_type": "code",
      "source": [
        "from sklearn.metrics import mean_squared_error\n",
        "\n",
        "X_liquor_validation = feature_liquor_validation.to_numpy()\n",
        "y_liquor_validation = target_liquor_validation.to_numpy()\n",
        "y_liquor_validation = y_liquor_validation.reshape(len(y_liquor_validation),)\n",
        "\n",
        "alphas = [0.01, 0.1, 1., 10]\n",
        "models = [ridge_reg_pointzeroone,\n",
        "          ridge_reg_pointone,\n",
        "          ridge_reg_one,\n",
        "          ridge_reg_ten]\n",
        "\n",
        "for model, alpha in zip(models, alphas):\n",
        "    y_predict_validation = model.predict(X_liquor_validation)\n",
        "    rmse = np.sqrt(mean_squared_error(y_liquor_validation,y_predict_validation))\n",
        "    print(f'RMSE of Ridge regression model with alpha = {alpha} is {rmse}')"
      ],
      "metadata": {
        "colab": {
          "base_uri": "https://localhost:8080/"
        },
        "id": "p4y8O-aQ37DK",
        "outputId": "5d2c5e43-d7a3-4f55-b372-858635ab2633"
      },
      "execution_count": 390,
      "outputs": [
        {
          "output_type": "stream",
          "name": "stdout",
          "text": [
            "RMSE of Ridge regression model with alpha = 0.01 is 2.904707562077692\n",
            "RMSE of Ridge regression model with alpha = 0.1 is 2.9196623799916877\n",
            "RMSE of Ridge regression model with alpha = 1.0 is 3.0744600575779746\n",
            "RMSE of Ridge regression model with alpha = 10 is 3.1718953898103073\n"
          ]
        }
      ]
    },
    {
      "cell_type": "markdown",
      "source": [
        "The smallest RMSE is alpha = 0.01"
      ],
      "metadata": {
        "id": "UaxmXQtqBJY8"
      }
    },
    {
      "cell_type": "markdown",
      "source": [
        "## Model Evaluation"
      ],
      "metadata": {
        "id": "F8HjrHIOCspW"
      }
    },
    {
      "cell_type": "code",
      "source": [
        "ridge_best = ridge_reg_pointzeroone\n",
        "\n",
        "coef_df = pd.DataFrame({\n",
        "    'feature':['intercept'] + feature_liquor_train.columns.tolist(),\n",
        "    'coefficient':[ridge_best.intercept_] + list(ridge_best.coef_)\n",
        "})\n",
        "\n",
        "coef_df"
      ],
      "metadata": {
        "colab": {
          "base_uri": "https://localhost:8080/",
          "height": 802
        },
        "id": "X1k940_F4Arc",
        "outputId": "f5eb6d5a-4c30-4a33-dac8-2bf9396f0d93"
      },
      "execution_count": 391,
      "outputs": [
        {
          "output_type": "execute_result",
          "data": {
            "text/plain": [
              "                     feature  coefficient\n",
              "0                  intercept     5.460444\n",
              "1              Fe2O3_Bauxite    -0.255307\n",
              "2             T-SiO2_Bauxite    -0.155972\n",
              "3             R-SiO2_Bauxite    -0.191480\n",
              "4               TiO2_Bauxite    -2.026924\n",
              "5                LOI_Bauxite     0.058032\n",
              "6                THA_Bauxite    -0.097556\n",
              "7              Average_MC_RM    -0.071386\n",
              "8        F-NaOH_Spend_Liquor     0.028876\n",
              "9           A/C_Spend_Liquor    -1.637450\n",
              "10           SC_Spend_Liquor    -0.013330\n",
              "11         F-NaOH_SLE_Outlet     0.004805\n",
              "12            A/C_SLE_Outlet    -0.059644\n",
              "13          F-NaOH_BDH-P-102     0.294881\n",
              "14             A/C_BDH-P-102    15.246628\n",
              "15                F-NaOH_BOS     0.094998\n",
              "16                   A/C_BOS     3.973652\n",
              "17                  SiO2_BOS     0.030304\n",
              "18                    SC_BOS    -0.002353\n",
              "19       F-NaOH_PFS_Filtrate     0.266102\n",
              "20          A/C_PFS_Filtrate     8.979510\n",
              "21       A/C_Pregnant_Liquor   -17.792631\n",
              "22    Na2CO3_Pregnant_Liquor     1.264747\n",
              "23  F/T-NaOH_Pregnant_Liquor     0.044459"
            ],
            "text/html": [
              "\n",
              "  <div id=\"df-d10d30c5-5e72-4967-8d0f-006e2b614af3\">\n",
              "    <div class=\"colab-df-container\">\n",
              "      <div>\n",
              "<style scoped>\n",
              "    .dataframe tbody tr th:only-of-type {\n",
              "        vertical-align: middle;\n",
              "    }\n",
              "\n",
              "    .dataframe tbody tr th {\n",
              "        vertical-align: top;\n",
              "    }\n",
              "\n",
              "    .dataframe thead th {\n",
              "        text-align: right;\n",
              "    }\n",
              "</style>\n",
              "<table border=\"1\" class=\"dataframe\">\n",
              "  <thead>\n",
              "    <tr style=\"text-align: right;\">\n",
              "      <th></th>\n",
              "      <th>feature</th>\n",
              "      <th>coefficient</th>\n",
              "    </tr>\n",
              "  </thead>\n",
              "  <tbody>\n",
              "    <tr>\n",
              "      <th>0</th>\n",
              "      <td>intercept</td>\n",
              "      <td>5.460444</td>\n",
              "    </tr>\n",
              "    <tr>\n",
              "      <th>1</th>\n",
              "      <td>Fe2O3_Bauxite</td>\n",
              "      <td>-0.255307</td>\n",
              "    </tr>\n",
              "    <tr>\n",
              "      <th>2</th>\n",
              "      <td>T-SiO2_Bauxite</td>\n",
              "      <td>-0.155972</td>\n",
              "    </tr>\n",
              "    <tr>\n",
              "      <th>3</th>\n",
              "      <td>R-SiO2_Bauxite</td>\n",
              "      <td>-0.191480</td>\n",
              "    </tr>\n",
              "    <tr>\n",
              "      <th>4</th>\n",
              "      <td>TiO2_Bauxite</td>\n",
              "      <td>-2.026924</td>\n",
              "    </tr>\n",
              "    <tr>\n",
              "      <th>5</th>\n",
              "      <td>LOI_Bauxite</td>\n",
              "      <td>0.058032</td>\n",
              "    </tr>\n",
              "    <tr>\n",
              "      <th>6</th>\n",
              "      <td>THA_Bauxite</td>\n",
              "      <td>-0.097556</td>\n",
              "    </tr>\n",
              "    <tr>\n",
              "      <th>7</th>\n",
              "      <td>Average_MC_RM</td>\n",
              "      <td>-0.071386</td>\n",
              "    </tr>\n",
              "    <tr>\n",
              "      <th>8</th>\n",
              "      <td>F-NaOH_Spend_Liquor</td>\n",
              "      <td>0.028876</td>\n",
              "    </tr>\n",
              "    <tr>\n",
              "      <th>9</th>\n",
              "      <td>A/C_Spend_Liquor</td>\n",
              "      <td>-1.637450</td>\n",
              "    </tr>\n",
              "    <tr>\n",
              "      <th>10</th>\n",
              "      <td>SC_Spend_Liquor</td>\n",
              "      <td>-0.013330</td>\n",
              "    </tr>\n",
              "    <tr>\n",
              "      <th>11</th>\n",
              "      <td>F-NaOH_SLE_Outlet</td>\n",
              "      <td>0.004805</td>\n",
              "    </tr>\n",
              "    <tr>\n",
              "      <th>12</th>\n",
              "      <td>A/C_SLE_Outlet</td>\n",
              "      <td>-0.059644</td>\n",
              "    </tr>\n",
              "    <tr>\n",
              "      <th>13</th>\n",
              "      <td>F-NaOH_BDH-P-102</td>\n",
              "      <td>0.294881</td>\n",
              "    </tr>\n",
              "    <tr>\n",
              "      <th>14</th>\n",
              "      <td>A/C_BDH-P-102</td>\n",
              "      <td>15.246628</td>\n",
              "    </tr>\n",
              "    <tr>\n",
              "      <th>15</th>\n",
              "      <td>F-NaOH_BOS</td>\n",
              "      <td>0.094998</td>\n",
              "    </tr>\n",
              "    <tr>\n",
              "      <th>16</th>\n",
              "      <td>A/C_BOS</td>\n",
              "      <td>3.973652</td>\n",
              "    </tr>\n",
              "    <tr>\n",
              "      <th>17</th>\n",
              "      <td>SiO2_BOS</td>\n",
              "      <td>0.030304</td>\n",
              "    </tr>\n",
              "    <tr>\n",
              "      <th>18</th>\n",
              "      <td>SC_BOS</td>\n",
              "      <td>-0.002353</td>\n",
              "    </tr>\n",
              "    <tr>\n",
              "      <th>19</th>\n",
              "      <td>F-NaOH_PFS_Filtrate</td>\n",
              "      <td>0.266102</td>\n",
              "    </tr>\n",
              "    <tr>\n",
              "      <th>20</th>\n",
              "      <td>A/C_PFS_Filtrate</td>\n",
              "      <td>8.979510</td>\n",
              "    </tr>\n",
              "    <tr>\n",
              "      <th>21</th>\n",
              "      <td>A/C_Pregnant_Liquor</td>\n",
              "      <td>-17.792631</td>\n",
              "    </tr>\n",
              "    <tr>\n",
              "      <th>22</th>\n",
              "      <td>Na2CO3_Pregnant_Liquor</td>\n",
              "      <td>1.264747</td>\n",
              "    </tr>\n",
              "    <tr>\n",
              "      <th>23</th>\n",
              "      <td>F/T-NaOH_Pregnant_Liquor</td>\n",
              "      <td>0.044459</td>\n",
              "    </tr>\n",
              "  </tbody>\n",
              "</table>\n",
              "</div>\n",
              "      <button class=\"colab-df-convert\" onclick=\"convertToInteractive('df-d10d30c5-5e72-4967-8d0f-006e2b614af3')\"\n",
              "              title=\"Convert this dataframe to an interactive table.\"\n",
              "              style=\"display:none;\">\n",
              "        \n",
              "  <svg xmlns=\"http://www.w3.org/2000/svg\" height=\"24px\"viewBox=\"0 0 24 24\"\n",
              "       width=\"24px\">\n",
              "    <path d=\"M0 0h24v24H0V0z\" fill=\"none\"/>\n",
              "    <path d=\"M18.56 5.44l.94 2.06.94-2.06 2.06-.94-2.06-.94-.94-2.06-.94 2.06-2.06.94zm-11 1L8.5 8.5l.94-2.06 2.06-.94-2.06-.94L8.5 2.5l-.94 2.06-2.06.94zm10 10l.94 2.06.94-2.06 2.06-.94-2.06-.94-.94-2.06-.94 2.06-2.06.94z\"/><path d=\"M17.41 7.96l-1.37-1.37c-.4-.4-.92-.59-1.43-.59-.52 0-1.04.2-1.43.59L10.3 9.45l-7.72 7.72c-.78.78-.78 2.05 0 2.83L4 21.41c.39.39.9.59 1.41.59.51 0 1.02-.2 1.41-.59l7.78-7.78 2.81-2.81c.8-.78.8-2.07 0-2.86zM5.41 20L4 18.59l7.72-7.72 1.47 1.35L5.41 20z\"/>\n",
              "  </svg>\n",
              "      </button>\n",
              "      \n",
              "  <style>\n",
              "    .colab-df-container {\n",
              "      display:flex;\n",
              "      flex-wrap:wrap;\n",
              "      gap: 12px;\n",
              "    }\n",
              "\n",
              "    .colab-df-convert {\n",
              "      background-color: #E8F0FE;\n",
              "      border: none;\n",
              "      border-radius: 50%;\n",
              "      cursor: pointer;\n",
              "      display: none;\n",
              "      fill: #1967D2;\n",
              "      height: 32px;\n",
              "      padding: 0 0 0 0;\n",
              "      width: 32px;\n",
              "    }\n",
              "\n",
              "    .colab-df-convert:hover {\n",
              "      background-color: #E2EBFA;\n",
              "      box-shadow: 0px 1px 2px rgba(60, 64, 67, 0.3), 0px 1px 3px 1px rgba(60, 64, 67, 0.15);\n",
              "      fill: #174EA6;\n",
              "    }\n",
              "\n",
              "    [theme=dark] .colab-df-convert {\n",
              "      background-color: #3B4455;\n",
              "      fill: #D2E3FC;\n",
              "    }\n",
              "\n",
              "    [theme=dark] .colab-df-convert:hover {\n",
              "      background-color: #434B5C;\n",
              "      box-shadow: 0px 1px 3px 1px rgba(0, 0, 0, 0.15);\n",
              "      filter: drop-shadow(0px 1px 2px rgba(0, 0, 0, 0.3));\n",
              "      fill: #FFFFFF;\n",
              "    }\n",
              "  </style>\n",
              "\n",
              "      <script>\n",
              "        const buttonEl =\n",
              "          document.querySelector('#df-d10d30c5-5e72-4967-8d0f-006e2b614af3 button.colab-df-convert');\n",
              "        buttonEl.style.display =\n",
              "          google.colab.kernel.accessAllowed ? 'block' : 'none';\n",
              "\n",
              "        async function convertToInteractive(key) {\n",
              "          const element = document.querySelector('#df-d10d30c5-5e72-4967-8d0f-006e2b614af3');\n",
              "          const dataTable =\n",
              "            await google.colab.kernel.invokeFunction('convertToInteractive',\n",
              "                                                     [key], {});\n",
              "          if (!dataTable) return;\n",
              "\n",
              "          const docLinkHtml = 'Like what you see? Visit the ' +\n",
              "            '<a target=\"_blank\" href=https://colab.research.google.com/notebooks/data_table.ipynb>data table notebook</a>'\n",
              "            + ' to learn more about interactive tables.';\n",
              "          element.innerHTML = '';\n",
              "          dataTable['output_type'] = 'display_data';\n",
              "          await google.colab.output.renderOutput(dataTable, element);\n",
              "          const docLink = document.createElement('div');\n",
              "          docLink.innerHTML = docLinkHtml;\n",
              "          element.appendChild(docLink);\n",
              "        }\n",
              "      </script>\n",
              "    </div>\n",
              "  </div>\n",
              "  "
            ]
          },
          "metadata": {},
          "execution_count": 391
        }
      ]
    },
    {
      "cell_type": "markdown",
      "source": [
        "### Diagnostics Study"
      ],
      "metadata": {
        "id": "jCh-6FfWC0tI"
      }
    },
    {
      "cell_type": "code",
      "source": [
        "from sklearn.metrics import r2_score\n",
        "\n",
        "y_predict_train = ridge_best.predict(X_liquor_train)\n",
        "\n",
        "print('R-squared for training data is {}'.format(r2_score(y_liquor_train, y_predict_train)))"
      ],
      "metadata": {
        "colab": {
          "base_uri": "https://localhost:8080/"
        },
        "id": "DHTe2nEp4Hto",
        "outputId": "c10eb571-5686-4814-dded-8d940871bbf4"
      },
      "execution_count": 392,
      "outputs": [
        {
          "output_type": "stream",
          "name": "stdout",
          "text": [
            "R-squared for training data is 0.8184592897491292\n"
          ]
        }
      ]
    },
    {
      "cell_type": "markdown",
      "source": [
        "### Training Error"
      ],
      "metadata": {
        "id": "N0CPUfwzC-Q-"
      }
    },
    {
      "cell_type": "code",
      "source": [
        "# prepare prediction result on train data\n",
        "X_liquor_train = feature_liquor_train.to_numpy()\n",
        "y_predict_train = ridge_best.predict(X_liquor_train)\n",
        "\n",
        "# ground truth target\n",
        "y_liquor_train = target_liquor_train.to_numpy()\n",
        "y_liquor_train = y_liquor_train.reshape(len(y_liquor_train),)"
      ],
      "metadata": {
        "id": "-75BtXCE4NK7"
      },
      "execution_count": 393,
      "outputs": []
    },
    {
      "cell_type": "code",
      "source": [
        "from sklearn.metrics import mean_squared_error\n",
        "from sklearn.metrics import mean_absolute_error\n",
        "from sklearn.metrics import mean_absolute_percentage_error\n",
        "\n",
        "print('RMSE for training data is {}'.format(np.sqrt(mean_squared_error(y_liquor_train, y_predict_train))))\n",
        "print('MAE for training data is {}'.format(mean_absolute_error(y_liquor_train, y_predict_train)))\n",
        "print('MAPE for training data is {}'.format(mean_absolute_percentage_error(y_liquor_train, y_predict_train)))"
      ],
      "metadata": {
        "colab": {
          "base_uri": "https://localhost:8080/"
        },
        "id": "0SqcI1hE4TXl",
        "outputId": "a9ebe857-04a2-49f2-eec8-7f9f13f85ce7"
      },
      "execution_count": 394,
      "outputs": [
        {
          "output_type": "stream",
          "name": "stdout",
          "text": [
            "RMSE for training data is 2.6509867403985945\n",
            "MAE for training data is 1.9604909000680473\n",
            "MAPE for training data is 0.013473540667462603\n"
          ]
        }
      ]
    },
    {
      "cell_type": "markdown",
      "source": [
        "### Testing Error"
      ],
      "metadata": {
        "id": "QDJNWPE1DBev"
      }
    },
    {
      "cell_type": "code",
      "source": [
        "# prepare prediction result on test data\n",
        "X_liquor_test = feature_liquor_test.to_numpy()\n",
        "y_predict_test = ridge_best.predict(X_liquor_test)\n",
        "\n",
        "# ground truth target\n",
        "y_liquor_test = target_liquor_test.to_numpy()\n",
        "y_liquor_test = y_liquor_test.reshape(len(y_liquor_test),)"
      ],
      "metadata": {
        "id": "9Qg79Doi4XX3"
      },
      "execution_count": 395,
      "outputs": []
    },
    {
      "cell_type": "code",
      "source": [
        "from sklearn.metrics import mean_squared_error\n",
        "from sklearn.metrics import mean_absolute_error\n",
        "from sklearn.metrics import mean_absolute_percentage_error\n",
        "\n",
        "print('RMSE for testing data is {}'.format(np.sqrt(mean_squared_error(y_liquor_test, y_predict_test))))\n",
        "print('MAE for testing data is {}'.format(mean_absolute_error(y_liquor_test, y_predict_test)))\n",
        "print('MAPE for testing data is {}'.format(mean_absolute_percentage_error(y_liquor_test, y_predict_test)))"
      ],
      "metadata": {
        "colab": {
          "base_uri": "https://localhost:8080/"
        },
        "id": "PMyZ3_wx4dsV",
        "outputId": "197536f8-6447-4841-fd91-a73883a1fe2c"
      },
      "execution_count": 396,
      "outputs": [
        {
          "output_type": "stream",
          "name": "stdout",
          "text": [
            "RMSE for testing data is 4.301942180361469\n",
            "MAE for testing data is 2.696111683606595\n",
            "MAPE for testing data is 0.01848777922621664\n"
          ]
        }
      ]
    },
    {
      "cell_type": "markdown",
      "source": [
        "## Interpretation\n",
        "\n",
        "Summary:\n",
        "Just Right\n",
        "\n",
        "MAPE on training data is about 1.34% and 1.84% for testing data.\n",
        "\n",
        "MAPE on training data indicates that it is not underfit.\n",
        "MAPE on test data indicates that it is also not overfit.\n",
        "\n",
        "From test data, the standard deviation of prediction errors is 4.302. i.e. from the regression line, the residuals mostly deviate between +- 4.302.\n",
        "\n",
        "On average, our prediction deviates the true F-NaOH Pregnant Liquor by 2.696. Moreover, this 2.696 is equivalent to 1.84% deviation relative to the medv."
      ],
      "metadata": {
        "id": "23pzDQZBBmBh"
      }
    },
    {
      "cell_type": "markdown",
      "source": [
        "# Lasso Regression"
      ],
      "metadata": {
        "id": "sk_yPnRZDJWZ"
      }
    },
    {
      "cell_type": "markdown",
      "source": [
        "## Train Multiple Models"
      ],
      "metadata": {
        "id": "jGq4CZUrDQCN"
      }
    },
    {
      "cell_type": "code",
      "source": [
        "from sklearn.linear_model import Lasso\n",
        "\n",
        "# train the model\n",
        "X_liquor_train = feature_liquor_train.to_numpy()\n",
        "y_liquor_train = target_liquor_train.to_numpy()\n",
        "y_liquor_train = y_liquor_train.reshape(len(y_liquor_train),)\n",
        "\n",
        "# define the model\n",
        "lasso_reg_pointzeroone = Lasso(alpha=0.01, random_state=42)\n",
        "lasso_reg_pointone = Lasso(alpha=0.1, random_state=42)\n",
        "lasso_reg_one = Lasso(alpha=1, random_state=42)\n",
        "lasso_reg_ten = Lasso(alpha=10, random_state=42)\n",
        "\n",
        "# fit the model (training)\n",
        "lasso_reg_pointzeroone.fit(X_liquor_train, y_liquor_train)\n",
        "lasso_reg_pointone.fit(X_liquor_train, y_liquor_train)\n",
        "lasso_reg_one.fit(X_liquor_train, y_liquor_train)\n",
        "lasso_reg_ten.fit(X_liquor_train, y_liquor_train)"
      ],
      "metadata": {
        "colab": {
          "base_uri": "https://localhost:8080/"
        },
        "id": "NeFWrogK4hi3",
        "outputId": "9c5c2610-8e39-4314-f407-42d456554de7"
      },
      "execution_count": 397,
      "outputs": [
        {
          "output_type": "execute_result",
          "data": {
            "text/plain": [
              "Lasso(alpha=10, random_state=42)"
            ]
          },
          "metadata": {},
          "execution_count": 397
        }
      ]
    },
    {
      "cell_type": "markdown",
      "source": [
        "## Find Best Model"
      ],
      "metadata": {
        "id": "Bi6M6Q2hDStv"
      }
    },
    {
      "cell_type": "code",
      "source": [
        "from sklearn.metrics import mean_squared_error\n",
        "\n",
        "X_liquor_validation = feature_liquor_validation.to_numpy()\n",
        "y_liquor_validation = target_liquor_validation.to_numpy()\n",
        "y_liquor_validation = y_liquor_validation.reshape(len(y_liquor_validation),)\n",
        "\n",
        "alphas = [0.01, 0.1, 1., 10]\n",
        "models = [lasso_reg_pointzeroone,\n",
        "          lasso_reg_pointone,\n",
        "          lasso_reg_one,\n",
        "          lasso_reg_ten]\n",
        "\n",
        "for model, alpha in zip(models, alphas):\n",
        "    y_predict_validation = model.predict(X_liquor_validation)\n",
        "    rmse = np.sqrt(mean_squared_error(y_liquor_validation,y_predict_validation))\n",
        "    print(f'RMSE of Lasso regression model with alpha = {alpha} is {rmse}')"
      ],
      "metadata": {
        "colab": {
          "base_uri": "https://localhost:8080/"
        },
        "id": "CIKtFRNg4ony",
        "outputId": "0e46798c-1771-4769-ba1f-9b1ae682b64b"
      },
      "execution_count": 398,
      "outputs": [
        {
          "output_type": "stream",
          "name": "stdout",
          "text": [
            "RMSE of Lasso regression model with alpha = 0.01 is 3.089925135016759\n",
            "RMSE of Lasso regression model with alpha = 0.1 is 3.160643350901945\n",
            "RMSE of Lasso regression model with alpha = 1.0 is 3.3353257663397797\n",
            "RMSE of Lasso regression model with alpha = 10 is 4.576470610480309\n"
          ]
        }
      ]
    },
    {
      "cell_type": "markdown",
      "source": [
        "The smallest RMSE is alpha = 0.01"
      ],
      "metadata": {
        "id": "LKh83ol9CWF2"
      }
    },
    {
      "cell_type": "markdown",
      "source": [
        "## Model Evaluation"
      ],
      "metadata": {
        "id": "Q2Ax3XZvDWy9"
      }
    },
    {
      "cell_type": "code",
      "source": [
        "lasso_best = lasso_reg_pointzeroone\n",
        "\n",
        "coef_df = pd.DataFrame({\n",
        "    'feature':['intercept'] + feature_liquor_train.columns.tolist(),\n",
        "    'coefficient':[lasso_best.intercept_] + list(lasso_best.coef_)\n",
        "})\n",
        "\n",
        "coef_df"
      ],
      "metadata": {
        "colab": {
          "base_uri": "https://localhost:8080/",
          "height": 802
        },
        "id": "Q6uBX52D4tay",
        "outputId": "9f514f23-d34b-421d-a0a9-2552f637130e"
      },
      "execution_count": 399,
      "outputs": [
        {
          "output_type": "execute_result",
          "data": {
            "text/plain": [
              "                     feature  coefficient\n",
              "0                  intercept    14.213007\n",
              "1              Fe2O3_Bauxite    -0.271085\n",
              "2             T-SiO2_Bauxite    -0.184537\n",
              "3             R-SiO2_Bauxite    -0.134315\n",
              "4               TiO2_Bauxite    -1.361542\n",
              "5                LOI_Bauxite     0.075321\n",
              "6                THA_Bauxite    -0.202453\n",
              "7              Average_MC_RM    -0.092051\n",
              "8        F-NaOH_Spend_Liquor     0.035052\n",
              "9           A/C_Spend_Liquor     0.000000\n",
              "10           SC_Spend_Liquor    -0.016239\n",
              "11         F-NaOH_SLE_Outlet     0.000477\n",
              "12            A/C_SLE_Outlet     0.000000\n",
              "13          F-NaOH_BDH-P-102     0.270710\n",
              "14             A/C_BDH-P-102     0.000000\n",
              "15                F-NaOH_BOS     0.122095\n",
              "16                   A/C_BOS     0.000000\n",
              "17                  SiO2_BOS     0.038176\n",
              "18                    SC_BOS    -0.004972\n",
              "19       F-NaOH_PFS_Filtrate     0.262343\n",
              "20          A/C_PFS_Filtrate     2.288271\n",
              "21       A/C_Pregnant_Liquor    -5.343690\n",
              "22    Na2CO3_Pregnant_Liquor     1.266523\n",
              "23  F/T-NaOH_Pregnant_Liquor     0.040692"
            ],
            "text/html": [
              "\n",
              "  <div id=\"df-a6cf6013-570b-42ba-b441-657ff7edb18a\">\n",
              "    <div class=\"colab-df-container\">\n",
              "      <div>\n",
              "<style scoped>\n",
              "    .dataframe tbody tr th:only-of-type {\n",
              "        vertical-align: middle;\n",
              "    }\n",
              "\n",
              "    .dataframe tbody tr th {\n",
              "        vertical-align: top;\n",
              "    }\n",
              "\n",
              "    .dataframe thead th {\n",
              "        text-align: right;\n",
              "    }\n",
              "</style>\n",
              "<table border=\"1\" class=\"dataframe\">\n",
              "  <thead>\n",
              "    <tr style=\"text-align: right;\">\n",
              "      <th></th>\n",
              "      <th>feature</th>\n",
              "      <th>coefficient</th>\n",
              "    </tr>\n",
              "  </thead>\n",
              "  <tbody>\n",
              "    <tr>\n",
              "      <th>0</th>\n",
              "      <td>intercept</td>\n",
              "      <td>14.213007</td>\n",
              "    </tr>\n",
              "    <tr>\n",
              "      <th>1</th>\n",
              "      <td>Fe2O3_Bauxite</td>\n",
              "      <td>-0.271085</td>\n",
              "    </tr>\n",
              "    <tr>\n",
              "      <th>2</th>\n",
              "      <td>T-SiO2_Bauxite</td>\n",
              "      <td>-0.184537</td>\n",
              "    </tr>\n",
              "    <tr>\n",
              "      <th>3</th>\n",
              "      <td>R-SiO2_Bauxite</td>\n",
              "      <td>-0.134315</td>\n",
              "    </tr>\n",
              "    <tr>\n",
              "      <th>4</th>\n",
              "      <td>TiO2_Bauxite</td>\n",
              "      <td>-1.361542</td>\n",
              "    </tr>\n",
              "    <tr>\n",
              "      <th>5</th>\n",
              "      <td>LOI_Bauxite</td>\n",
              "      <td>0.075321</td>\n",
              "    </tr>\n",
              "    <tr>\n",
              "      <th>6</th>\n",
              "      <td>THA_Bauxite</td>\n",
              "      <td>-0.202453</td>\n",
              "    </tr>\n",
              "    <tr>\n",
              "      <th>7</th>\n",
              "      <td>Average_MC_RM</td>\n",
              "      <td>-0.092051</td>\n",
              "    </tr>\n",
              "    <tr>\n",
              "      <th>8</th>\n",
              "      <td>F-NaOH_Spend_Liquor</td>\n",
              "      <td>0.035052</td>\n",
              "    </tr>\n",
              "    <tr>\n",
              "      <th>9</th>\n",
              "      <td>A/C_Spend_Liquor</td>\n",
              "      <td>0.000000</td>\n",
              "    </tr>\n",
              "    <tr>\n",
              "      <th>10</th>\n",
              "      <td>SC_Spend_Liquor</td>\n",
              "      <td>-0.016239</td>\n",
              "    </tr>\n",
              "    <tr>\n",
              "      <th>11</th>\n",
              "      <td>F-NaOH_SLE_Outlet</td>\n",
              "      <td>0.000477</td>\n",
              "    </tr>\n",
              "    <tr>\n",
              "      <th>12</th>\n",
              "      <td>A/C_SLE_Outlet</td>\n",
              "      <td>0.000000</td>\n",
              "    </tr>\n",
              "    <tr>\n",
              "      <th>13</th>\n",
              "      <td>F-NaOH_BDH-P-102</td>\n",
              "      <td>0.270710</td>\n",
              "    </tr>\n",
              "    <tr>\n",
              "      <th>14</th>\n",
              "      <td>A/C_BDH-P-102</td>\n",
              "      <td>0.000000</td>\n",
              "    </tr>\n",
              "    <tr>\n",
              "      <th>15</th>\n",
              "      <td>F-NaOH_BOS</td>\n",
              "      <td>0.122095</td>\n",
              "    </tr>\n",
              "    <tr>\n",
              "      <th>16</th>\n",
              "      <td>A/C_BOS</td>\n",
              "      <td>0.000000</td>\n",
              "    </tr>\n",
              "    <tr>\n",
              "      <th>17</th>\n",
              "      <td>SiO2_BOS</td>\n",
              "      <td>0.038176</td>\n",
              "    </tr>\n",
              "    <tr>\n",
              "      <th>18</th>\n",
              "      <td>SC_BOS</td>\n",
              "      <td>-0.004972</td>\n",
              "    </tr>\n",
              "    <tr>\n",
              "      <th>19</th>\n",
              "      <td>F-NaOH_PFS_Filtrate</td>\n",
              "      <td>0.262343</td>\n",
              "    </tr>\n",
              "    <tr>\n",
              "      <th>20</th>\n",
              "      <td>A/C_PFS_Filtrate</td>\n",
              "      <td>2.288271</td>\n",
              "    </tr>\n",
              "    <tr>\n",
              "      <th>21</th>\n",
              "      <td>A/C_Pregnant_Liquor</td>\n",
              "      <td>-5.343690</td>\n",
              "    </tr>\n",
              "    <tr>\n",
              "      <th>22</th>\n",
              "      <td>Na2CO3_Pregnant_Liquor</td>\n",
              "      <td>1.266523</td>\n",
              "    </tr>\n",
              "    <tr>\n",
              "      <th>23</th>\n",
              "      <td>F/T-NaOH_Pregnant_Liquor</td>\n",
              "      <td>0.040692</td>\n",
              "    </tr>\n",
              "  </tbody>\n",
              "</table>\n",
              "</div>\n",
              "      <button class=\"colab-df-convert\" onclick=\"convertToInteractive('df-a6cf6013-570b-42ba-b441-657ff7edb18a')\"\n",
              "              title=\"Convert this dataframe to an interactive table.\"\n",
              "              style=\"display:none;\">\n",
              "        \n",
              "  <svg xmlns=\"http://www.w3.org/2000/svg\" height=\"24px\"viewBox=\"0 0 24 24\"\n",
              "       width=\"24px\">\n",
              "    <path d=\"M0 0h24v24H0V0z\" fill=\"none\"/>\n",
              "    <path d=\"M18.56 5.44l.94 2.06.94-2.06 2.06-.94-2.06-.94-.94-2.06-.94 2.06-2.06.94zm-11 1L8.5 8.5l.94-2.06 2.06-.94-2.06-.94L8.5 2.5l-.94 2.06-2.06.94zm10 10l.94 2.06.94-2.06 2.06-.94-2.06-.94-.94-2.06-.94 2.06-2.06.94z\"/><path d=\"M17.41 7.96l-1.37-1.37c-.4-.4-.92-.59-1.43-.59-.52 0-1.04.2-1.43.59L10.3 9.45l-7.72 7.72c-.78.78-.78 2.05 0 2.83L4 21.41c.39.39.9.59 1.41.59.51 0 1.02-.2 1.41-.59l7.78-7.78 2.81-2.81c.8-.78.8-2.07 0-2.86zM5.41 20L4 18.59l7.72-7.72 1.47 1.35L5.41 20z\"/>\n",
              "  </svg>\n",
              "      </button>\n",
              "      \n",
              "  <style>\n",
              "    .colab-df-container {\n",
              "      display:flex;\n",
              "      flex-wrap:wrap;\n",
              "      gap: 12px;\n",
              "    }\n",
              "\n",
              "    .colab-df-convert {\n",
              "      background-color: #E8F0FE;\n",
              "      border: none;\n",
              "      border-radius: 50%;\n",
              "      cursor: pointer;\n",
              "      display: none;\n",
              "      fill: #1967D2;\n",
              "      height: 32px;\n",
              "      padding: 0 0 0 0;\n",
              "      width: 32px;\n",
              "    }\n",
              "\n",
              "    .colab-df-convert:hover {\n",
              "      background-color: #E2EBFA;\n",
              "      box-shadow: 0px 1px 2px rgba(60, 64, 67, 0.3), 0px 1px 3px 1px rgba(60, 64, 67, 0.15);\n",
              "      fill: #174EA6;\n",
              "    }\n",
              "\n",
              "    [theme=dark] .colab-df-convert {\n",
              "      background-color: #3B4455;\n",
              "      fill: #D2E3FC;\n",
              "    }\n",
              "\n",
              "    [theme=dark] .colab-df-convert:hover {\n",
              "      background-color: #434B5C;\n",
              "      box-shadow: 0px 1px 3px 1px rgba(0, 0, 0, 0.15);\n",
              "      filter: drop-shadow(0px 1px 2px rgba(0, 0, 0, 0.3));\n",
              "      fill: #FFFFFF;\n",
              "    }\n",
              "  </style>\n",
              "\n",
              "      <script>\n",
              "        const buttonEl =\n",
              "          document.querySelector('#df-a6cf6013-570b-42ba-b441-657ff7edb18a button.colab-df-convert');\n",
              "        buttonEl.style.display =\n",
              "          google.colab.kernel.accessAllowed ? 'block' : 'none';\n",
              "\n",
              "        async function convertToInteractive(key) {\n",
              "          const element = document.querySelector('#df-a6cf6013-570b-42ba-b441-657ff7edb18a');\n",
              "          const dataTable =\n",
              "            await google.colab.kernel.invokeFunction('convertToInteractive',\n",
              "                                                     [key], {});\n",
              "          if (!dataTable) return;\n",
              "\n",
              "          const docLinkHtml = 'Like what you see? Visit the ' +\n",
              "            '<a target=\"_blank\" href=https://colab.research.google.com/notebooks/data_table.ipynb>data table notebook</a>'\n",
              "            + ' to learn more about interactive tables.';\n",
              "          element.innerHTML = '';\n",
              "          dataTable['output_type'] = 'display_data';\n",
              "          await google.colab.output.renderOutput(dataTable, element);\n",
              "          const docLink = document.createElement('div');\n",
              "          docLink.innerHTML = docLinkHtml;\n",
              "          element.appendChild(docLink);\n",
              "        }\n",
              "      </script>\n",
              "    </div>\n",
              "  </div>\n",
              "  "
            ]
          },
          "metadata": {},
          "execution_count": 399
        }
      ]
    },
    {
      "cell_type": "markdown",
      "source": [
        "### Diagnostics Study"
      ],
      "metadata": {
        "id": "unKsHVVBDa_C"
      }
    },
    {
      "cell_type": "code",
      "source": [
        "from sklearn.metrics import r2_score\n",
        "\n",
        "y_predict_train = lasso_best.predict(X_liquor_train)\n",
        "\n",
        "print('R-squared for training data is {}'.format(r2_score(y_liquor_train, y_predict_train)))"
      ],
      "metadata": {
        "colab": {
          "base_uri": "https://localhost:8080/"
        },
        "id": "vDtUec__4140",
        "outputId": "77482f1a-0749-41f1-ae28-ccba49514136"
      },
      "execution_count": 400,
      "outputs": [
        {
          "output_type": "stream",
          "name": "stdout",
          "text": [
            "R-squared for training data is 0.8093027633220724\n"
          ]
        }
      ]
    },
    {
      "cell_type": "markdown",
      "source": [
        "### Training Error"
      ],
      "metadata": {
        "id": "FmVzaYl_DfqK"
      }
    },
    {
      "cell_type": "code",
      "source": [
        "# prepare prediction result on train data\n",
        "X_liquor_train = feature_liquor_train.to_numpy()\n",
        "y_predict_train = lasso_best.predict(X_liquor_train)\n",
        "\n",
        "# ground truth target\n",
        "y_liquor_train = target_liquor_train.to_numpy()\n",
        "y_liquor_train = y_liquor_train.reshape(len(y_liquor_train),)"
      ],
      "metadata": {
        "id": "WMVq2-9R4641"
      },
      "execution_count": 401,
      "outputs": []
    },
    {
      "cell_type": "code",
      "source": [
        "from sklearn.metrics import mean_squared_error\n",
        "from sklearn.metrics import mean_absolute_error\n",
        "from sklearn.metrics import mean_absolute_percentage_error\n",
        "\n",
        "print('RMSE for training data is {}'.format(np.sqrt(mean_squared_error(y_liquor_train, y_predict_train))))\n",
        "print('MAE for training data is {}'.format(mean_absolute_error(y_liquor_train, y_predict_train)))\n",
        "print('MAPE for training data is {}'.format(mean_absolute_percentage_error(y_liquor_train, y_predict_train)))"
      ],
      "metadata": {
        "colab": {
          "base_uri": "https://localhost:8080/"
        },
        "id": "TI4uRXhz5CN9",
        "outputId": "8870f917-1fff-42eb-c0ef-cc9babe67e8b"
      },
      "execution_count": 402,
      "outputs": [
        {
          "output_type": "stream",
          "name": "stdout",
          "text": [
            "RMSE for training data is 2.7170194060503845\n",
            "MAE for training data is 2.0039640155287093\n",
            "MAPE for training data is 0.013760221798420501\n"
          ]
        }
      ]
    },
    {
      "cell_type": "markdown",
      "source": [
        "### Testing Error"
      ],
      "metadata": {
        "id": "_NjjCMWrDkQe"
      }
    },
    {
      "cell_type": "code",
      "source": [
        "# prepare prediction result on test data\n",
        "X_liquor_test = feature_liquor_test.to_numpy()\n",
        "y_predict_test = lasso_best.predict(X_liquor_test)\n",
        "\n",
        "# ground truth target\n",
        "y_liquor_test = target_liquor_test.to_numpy()\n",
        "y_liquor_test = y_liquor_test.reshape(len(y_liquor_test),)"
      ],
      "metadata": {
        "id": "F5CCSqcY5GHh"
      },
      "execution_count": 403,
      "outputs": []
    },
    {
      "cell_type": "code",
      "source": [
        "from sklearn.metrics import mean_squared_error\n",
        "from sklearn.metrics import mean_absolute_error\n",
        "from sklearn.metrics import mean_absolute_percentage_error\n",
        "\n",
        "print('RMSE for testing data is {}'.format(np.sqrt(mean_squared_error(y_liquor_test, y_predict_test))))\n",
        "print('MAE for testing data is {}'.format(mean_absolute_error(y_liquor_test, y_predict_test)))\n",
        "print('MAPE for testing data is {}'.format(mean_absolute_percentage_error(y_liquor_test, y_predict_test)))"
      ],
      "metadata": {
        "colab": {
          "base_uri": "https://localhost:8080/"
        },
        "id": "0vZGpN8w5KT1",
        "outputId": "002b9392-bc1e-494f-b2f0-d8b9946d9b61"
      },
      "execution_count": 404,
      "outputs": [
        {
          "output_type": "stream",
          "name": "stdout",
          "text": [
            "RMSE for testing data is 4.454358573252794\n",
            "MAE for testing data is 2.8144253049380517\n",
            "MAPE for testing data is 0.019290202647571923\n"
          ]
        }
      ]
    },
    {
      "cell_type": "markdown",
      "source": [
        "## Interpretation\n",
        "\n",
        "Summary:\n",
        "Just Right\n",
        "\n",
        "MAPE on training data is about 1.37% and 1.92% for testing data.\n",
        "\n",
        "MAPE on training data indicates that it is not underfit.\n",
        "MAPE on test data indicates that it is also not overfit.\n",
        "\n",
        "From test data, the standard deviation of prediction errors is 4.454. i.e. from the regression line, the residuals mostly deviate between +- 4.454.\n",
        "\n",
        "On average, our prediction deviates the true F-NaOH Pregnant Liquor by 2.814. Moreover, this 2.814 is equivalent to 1.92% deviation relative to the medv."
      ],
      "metadata": {
        "id": "gNIkBu-3CfVE"
      }
    },
    {
      "cell_type": "markdown",
      "source": [
        "# Summary\n",
        "\n",
        "R-squared for ridge model on training data is 77.82%\n",
        "\n",
        "R-squared for ridge model on training data is 81.85%\n",
        "\n",
        "R-squared for lasso model on training data is 80.93%\n",
        "\n",
        "Both of ridge and lasso model are just right. Not underfit or overfit.\n",
        "\n",
        "Best model is ridge model due to 81.85% of variability of F-NaOH Pregnant Liquor is successfully explained using all the features in the model."
      ],
      "metadata": {
        "id": "JoCNHr32DyNB"
      }
    }
  ]
}